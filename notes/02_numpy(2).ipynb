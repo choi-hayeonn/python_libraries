{
 "cells": [
  {
   "cell_type": "markdown",
   "id": "4b170f37",
   "metadata": {},
   "source": [
    "### 2-1. Numpy 배열 연산"
   ]
  },
  {
   "cell_type": "code",
   "execution_count": 101,
   "id": "c21cd914",
   "metadata": {},
   "outputs": [],
   "source": [
    "import numpy as np"
   ]
  },
  {
   "cell_type": "code",
   "execution_count": null,
   "id": "c03490fa",
   "metadata": {},
   "outputs": [
    {
     "name": "stdout",
     "output_type": "stream",
     "text": [
      "[5 7 9]\n",
      "[-3 -3 -3]\n"
     ]
    }
   ],
   "source": [
    "# 배열 간 연산(1차원) \n",
    "a1 = np.array([1,2,3])\n",
    "a2 = np.array([4,5,6])\n",
    "\n",
    "print(a1 + a2)\n",
    "print(a1 - a2)"
   ]
  },
  {
   "cell_type": "code",
   "execution_count": null,
   "id": "885937f7",
   "metadata": {},
   "outputs": [
    {
     "name": "stdout",
     "output_type": "stream",
     "text": [
      "[[1 2]\n",
      " [3 4]]\n",
      "[[11 12]\n",
      " [13 14]]\n",
      "[[12 14]\n",
      " [16 18]]\n",
      "[[-10 -10]\n",
      " [-10 -10]]\n"
     ]
    }
   ],
   "source": [
    "# 배열 간 연산(2차원) \n",
    "a1 = np.arange(1,5).reshape(2,2)\n",
    "a2 = np.arange(11,15).reshape(2,2)\n",
    "\n",
    "print(a1)\n",
    "print(a2)\n",
    "print(a1 + a2)\n",
    "print(a1 - a2)"
   ]
  },
  {
   "cell_type": "code",
   "execution_count": null,
   "id": "c5641924",
   "metadata": {},
   "outputs": [
    {
     "name": "stdout",
     "output_type": "stream",
     "text": [
      "[11 12 13 14]\n",
      "[2 4 6 8]\n"
     ]
    }
   ],
   "source": [
    "# 배열과 스칼라 연산(1차원) \n",
    "a1 = np.array([1,2,3,4])\n",
    "print(a1 + 10)\n",
    "print(a1 * 2)"
   ]
  },
  {
   "cell_type": "code",
   "execution_count": 10,
   "id": "1393dcdb",
   "metadata": {},
   "outputs": [
    {
     "name": "stdout",
     "output_type": "stream",
     "text": [
      "[[1 2]\n",
      " [3 4]]\n",
      "[[11 12]\n",
      " [13 14]]\n",
      "[[6 7]\n",
      " [8 9]]\n",
      "[[33 36]\n",
      " [39 42]]\n",
      "[[5 6]\n",
      " [6 7]]\n"
     ]
    }
   ],
   "source": [
    "# 배열과 스칼라 연산(2차원) \n",
    "a1 = np.arange(1,5).reshape(2,2)\n",
    "a2 = np.arange(11,15).reshape(2,2)\n",
    "\n",
    "print(a1)\n",
    "print(a2)\n",
    "print(a1 + 5)\n",
    "print(a2 * 3)\n",
    "print(a2 // 2)"
   ]
  },
  {
   "cell_type": "code",
   "execution_count": 13,
   "id": "6dd29d6d",
   "metadata": {},
   "outputs": [
    {
     "name": "stdout",
     "output_type": "stream",
     "text": [
      "[[11 22 33]\n",
      " [14 25 36]]\n"
     ]
    }
   ],
   "source": [
    "# 브로드캐스팅 \n",
    "# : 자동으로 배열의 크기를 확장 → 서로 다른 크기의 배열 간 연산을 가능하게 하는 기능\n",
    "# 1. 두 배열의 차원을 뒤(낮은 차원)에서부터 비교\n",
    "# 2. 크기가 같거나\n",
    "# 3. 한쪽이 1인 경우 확장이 가능\n",
    "\n",
    "a1 = np.array([[1,2,3],[4,5,6]]) # 2x3 배열\n",
    "a2 = np.array([10,20,30]) # 길이가 3인 1차원 배열\n",
    "\n",
    "# 1차원 길이 3\n",
    "[10,20,30]\n",
    "# 2차원으로 변형 (1,3)\n",
    "[[10,20,30]]\n",
    "# 2차원의 행의 행이 2로 확장\n",
    "[[10,20,30], [10,20,30]]\n",
    "\n",
    "print(a1 + a2)"
   ]
  },
  {
   "cell_type": "code",
   "execution_count": 49,
   "id": "1a6cca17",
   "metadata": {},
   "outputs": [
    {
     "name": "stdout",
     "output_type": "stream",
     "text": [
      "a1 shape: (3, 1)\n",
      "a2 shape: (3,)\n",
      "\n",
      "[[11 21 31]\n",
      " [12 22 32]\n",
      " [13 23 33]]\n"
     ]
    }
   ],
   "source": [
    "# 브로드 캐스팅 예제\n",
    "a1 = np.array ([[1],[2],[3]])  # (3, 1)\n",
    "a2 = np.array([10, 20, 30])  # (3,)\n",
    "print(\"a1 shape:\", a1.shape)\n",
    "print(\"a2 shape:\", a2.shape)\n",
    "print()\n",
    "# a2 : (3,) → (1, 3)로 변형\n",
    "[[10, 20, 30]]\n",
    "\n",
    "# a1과 a2의 비교: a1 = (3, 1), a2 = (1, 3)\n",
    "# 2차원의 경우 : 3 vs 1 → a2의 2차원이 3으로 확장\n",
    "[[10,20,30], [10,20,30], [10,20,30]]\n",
    "\n",
    "# 1차원의 경우 : 1 vs 3 → a1의 1차원이 3으로 확장\n",
    "[[1,1,1], [2,2,2], [3,3,3]]\n",
    "\n",
    "# a1 \n",
    "[[1,1,1], [2,2,2], [3,3,3]]\n",
    "# a2 \n",
    "[[10,20,30], [10,20,30], [10,20,30]]\n",
    "\n",
    "print(a1 + a2)"
   ]
  },
  {
   "cell_type": "code",
   "execution_count": null,
   "id": "2f1f7639",
   "metadata": {},
   "outputs": [
    {
     "ename": "ValueError",
     "evalue": "operands could not be broadcast together with shapes (2,3) (3,2) ",
     "output_type": "error",
     "traceback": [
      "\u001b[31m---------------------------------------------------------------------------\u001b[39m",
      "\u001b[31mValueError\u001b[39m                                Traceback (most recent call last)",
      "\u001b[36mCell\u001b[39m\u001b[36m \u001b[39m\u001b[32mIn[17]\u001b[39m\u001b[32m, line 5\u001b[39m\n\u001b[32m      2\u001b[39m a1 = np.ones((\u001b[32m2\u001b[39m,\u001b[32m3\u001b[39m))\n\u001b[32m      3\u001b[39m a2 = np.ones((\u001b[32m3\u001b[39m,\u001b[32m2\u001b[39m))\n\u001b[32m----> \u001b[39m\u001b[32m5\u001b[39m \u001b[38;5;28mprint\u001b[39m(\u001b[43ma1\u001b[49m\u001b[43m \u001b[49m\u001b[43m+\u001b[49m\u001b[43m \u001b[49m\u001b[43ma2\u001b[49m)\n",
      "\u001b[31mValueError\u001b[39m: operands could not be broadcast together with shapes (2,3) (3,2) "
     ]
    }
   ],
   "source": [
    "# 브로드캐스팅 불가능한 경우\n",
    "# 마지막 차원도 다르고, 1도 아님\n",
    "a1 = np.ones((2,3))\n",
    "a2 = np.ones((3,2))\n",
    "\n",
    "print(a1 + a2)"
   ]
  },
  {
   "cell_type": "code",
   "execution_count": 48,
   "id": "f29e14b4",
   "metadata": {},
   "outputs": [
    {
     "name": "stdout",
     "output_type": "stream",
     "text": [
      "문제 1.\n",
      " [4 5 6 7]\n",
      "문제 2.\n",
      " [[ -5 -10]\n",
      " [-15 -20]]\n",
      "문제 3.\n",
      " [ 2  8 18]\n",
      " [2. 2. 2.]\n",
      "문제 4.\n",
      "- 필요한 값:\n",
      "[[ 5  3]\n",
      " [20 15]]\n",
      "- 원래 배열 + 필요한 값:\n",
      "[[100 100]\n",
      " [100 100]]\n",
      "문제 5.\n",
      " [[ 10  20  30]\n",
      " [400 500 600]]\n",
      "문제 6.\n",
      " [[110 120]\n",
      " [230 240]\n",
      " [350 360]]\n"
     ]
    }
   ],
   "source": [
    "# 실습. 배열연산\n",
    "# 1. 다음 배열을 생성하고, 모든 요소에 3을 더하세요\n",
    "arr = np.array([1, 2, 3, 4])\n",
    "a1 = arr +3\n",
    "print(\"문제 1.\\n\", a1)\n",
    "# 2. 아래 2차원 배열에서 각 요소를 -1로 곱한 새로운 배열을 만드세요.\n",
    "arr = np.array([[5, 10],\n",
    "[15, 20]])\n",
    "a2 = arr * -1\n",
    "print(\"문제 2.\\n\", a2)\n",
    "# 3. 아래 두 배열의 요소별 곱셈과 나눗셈 결과를 각각 출력하세요.\n",
    "arr1 = np.array([2, 4, 6])\n",
    "arr2 = np.array([1, 2, 3])\n",
    "print(\"문제 3.\\n\", arr1 * arr2)\n",
    "print(\"\",arr1 / arr2)\n",
    "# 4. 아래 배열에서 모든 요소를 최대값 100으로 만들기 위해 \n",
    "#    필요한 값을 더한 결과 배열을 브로드캐스팅으로 만드세요.\n",
    "arr = np.array([[95, 97],\n",
    "[80, 85]])\n",
    "need = 100 - arr\n",
    "print(\"문제 4.\")\n",
    "print(\"- 필요한 값:\")\n",
    "print(need)\n",
    "print(\"- 원래 배열 + 필요한 값:\")\n",
    "print(arr + need)\n",
    "# 5. 아래 2차원 배열에서 각 행에 다른 값을 곱하여 새로운 배열을 만드세요.(브로드캐스팅 이용)\n",
    "arr = np.array([[1,2,3],[4,5,6]])\n",
    "arr2 = np.array([[10],[100]])\n",
    "print(\"문제 5.\\n\",arr * arr2)\n",
    "# 6. 아래 배열에서 각 행마다 다른 스칼라 값을 더하기 위해\n",
    "#   • 첫 번째 행에 100, 두 번째 행에 200, 세 번째 행에 300을 더하세요.\n",
    "arr = np.array([[10, 20],\n",
    "[30, 40],\n",
    "[50, 60]])\n",
    "arr2 = np.array([[100],[200],[300]])\n",
    "print(\"문제 6.\\n\",arr + arr2)"
   ]
  },
  {
   "cell_type": "markdown",
   "id": "b92ed1de",
   "metadata": {},
   "source": [
    "### 2-2. 통계 함수 및 집계 연산"
   ]
  },
  {
   "cell_type": "code",
   "execution_count": null,
   "id": "9d035cc8",
   "metadata": {},
   "outputs": [
    {
     "name": "stdout",
     "output_type": "stream",
     "text": [
      "원소의 합: 21\n",
      "원소의 평균: 3.5\n",
      "원소의 표준편차: 1.707825127659933\n",
      "원소의 최댓값: 6\n",
      "원소의 최솟값: 1\n",
      "원소의 최댓값의 인덱스: 5\n"
     ]
    }
   ],
   "source": [
    "a = np.array([[1,2,3],[4,5,6]])\n",
    "\n",
    "print(\"원소의 합:\", np.sum(a))\n",
    "print(\"원소의 평균:\", np.mean(a))\n",
    "print(\"원소의 표준편차:\", np.std(a))\n",
    "print(\"원소의 최댓값:\", np.max(a))\n",
    "print(\"원소의 최솟값:\", np.min(a))\n",
    "print(\"원소의 최댓값의 인덱스:\", np.argmax(a))\n",
    "print(\"원소의 최솟값의 인덱스:\", np.argmin(a))\n"
   ]
  },
  {
   "cell_type": "code",
   "execution_count": null,
   "id": "0a652a9b",
   "metadata": {},
   "outputs": [
    {
     "name": "stdout",
     "output_type": "stream",
     "text": [
      "행기준합:  [12 15 18]\n",
      "열기준합:  [ 6 15 24]\n",
      "행기준평균:  [4. 5. 6.]\n",
      "열기준평균:  [2. 5. 8.]\n"
     ]
    }
   ],
   "source": [
    "# 축(axis) 단위 연산 \n",
    "# aixs = 0 → 가장 높은 차원 기준 → 행기준\n",
    "    # 행기준 = 행을 따라 연산 = 행을 증가시키며 연산\n",
    "# aixs = 1 → 그 다음 차원 기준 → 열기준\n",
    "    # 열기준 = 열을 따라 연산 = 열을 증가시키며 연산\n",
    "\n",
    "a = np.array([[1,2,3],\n",
    "              [4,5,6],\n",
    "              [7,8,9]])\n",
    "print(\"행기준합: \",np.sum(a, axis=0))\n",
    "print(\"열기준합: \",np.sum(a, axis=1))\n",
    "print(\"행기준평균: \",np.mean(a, axis=0))\n",
    "print(\"열기준평균: \",np.mean(a, axis=1))\n"
   ]
  },
  {
   "cell_type": "code",
   "execution_count": 61,
   "id": "7496af47",
   "metadata": {},
   "outputs": [
    {
     "name": "stdout",
     "output_type": "stream",
     "text": [
      "[ 1  3  6 10]\n",
      "[ 1  2  6 24]\n"
     ]
    }
   ],
   "source": [
    "# 누적 연산\n",
    "arr = np.array([1,2,3,4])\n",
    "print(np.cumsum(arr))\n",
    "print(np.cumprod(arr))"
   ]
  },
  {
   "cell_type": "code",
   "execution_count": 78,
   "id": "2a84a5d2",
   "metadata": {},
   "outputs": [
    {
     "name": "stdout",
     "output_type": "stream",
     "text": [
      "문제1.\n",
      "- 합: 50\n",
      "- 평균: 12.5\n",
      "문제2.\n",
      "- 최솟값: 1\n",
      "- 최댓값: 9\n",
      "문제3.\n",
      "- 각 열의 합계: [12 15 18]\n",
      "- 각 행의 합계: [ 6 15 24]\n",
      "문제4.\n",
      "- 행별 평균: [15. 35. 55.]\n",
      "- 열별 평균: [30. 40.]\n",
      "문제5.\n",
      "- 표준편차: 2.0\n",
      "- 편차배열: [-3. -1. -1. -1.  0.  0.  2.  4.]\n",
      "문제6.\n",
      "- 행 단위 누적 합:\n",
      " [[ 1  3  6]\n",
      " [ 4  9 15]]\n",
      "- 열 단위 누적 곱:\n",
      " [[ 1  2  3]\n",
      " [ 4 10 18]]\n"
     ]
    }
   ],
   "source": [
    "# 실습. 통계 함수 및 집계 연산\n",
    "# 1. 아래 배열의 전체 합계와 평균을 각각 구하세요.\n",
    "arr = np.array([5, 10, 15, 20])\n",
    "print(\"문제1.\\n- 합:\", np.sum(arr))\n",
    "print(\"- 평균:\", np.mean(arr))\n",
    "# 2. 다음 2차원 배열에서 전체 최소값과 최대값을 구하세요.\n",
    "arr = np.array([[3, 7, 1], [9, 2, 8]])\n",
    "print(\"문제2.\\n- 최솟값:\", np.min(arr))\n",
    "print(\"- 최댓값:\", np.max(arr))\n",
    "# 3. 아래 배열에서 각 열의 합계와 각 행의 합계를 각각 구하세요.\n",
    "arr = np.array([[1, 2, 3],[4, 5, 6], [7, 8, 9]])\n",
    "print(\"문제3.\\n- 각 열의 합계:\", np.sum(arr, axis=0))\n",
    "print(\"- 각 행의 합계:\", np.sum(arr, axis=1))\n",
    "# 4. 아래 배열에서 행별 평균과 열별 평균을 각각 구하세요.\n",
    "arr = np.array([[10, 20], [30, 40], [50, 60]])\n",
    "print(\"문제4.\\n- 행별 평균:\", np.mean(arr, axis=1))\n",
    "print(\"- 열별 평균:\", np.mean(arr, axis=0))\n",
    "# 5. 1차원 배열에서 전체 표준편차를 구하고,\n",
    "#    각 요소가 평균으로부터 얼마나 떨어져 있는지 편차배열을 만드세요. (값 - 평균)\n",
    "arr = np.array([2, 4, 4, 4, 5, 5, 7, 9])\n",
    "print(\"문제5.\\n- 표준편차:\", np.std(arr))\n",
    "print(\"- 편차배열:\", arr - np.mean(arr) )\n",
    "# 6. 아래 2차원 배열에서 행 단위 누적 합과 열 단위 누적 곱을 각각 구하세요.\n",
    "arr = np.array([[1, 2, 3], [4, 5, 6]])\n",
    "print(\"문제6.\\n- 행 단위 누적 합:\\n\", np.cumsum(arr, axis = 1))\n",
    "print(\"- 열 단위 누적 곱:\\n\",np.cumprod(arr, axis =0))"
   ]
  },
  {
   "cell_type": "markdown",
   "id": "037407e5",
   "metadata": {},
   "source": [
    "### 2-3. 논리 연산과 조건 연산"
   ]
  },
  {
   "cell_type": "code",
   "execution_count": 79,
   "id": "948325aa",
   "metadata": {},
   "outputs": [
    {
     "name": "stdout",
     "output_type": "stream",
     "text": [
      "['Low' 'Low' 'Low' 'High' 'High']\n"
     ]
    }
   ],
   "source": [
    "# np.where()\n",
    "# 조건 기반 선택 함수\n",
    "\n",
    "arr = np.array([10,20,30,40,50])\n",
    "result = np.where(arr > 30, \"High\", \"Low\")\n",
    "print(result)"
   ]
  },
  {
   "cell_type": "code",
   "execution_count": null,
   "id": "020da6e2",
   "metadata": {},
   "outputs": [
    {
     "name": "stdout",
     "output_type": "stream",
     "text": [
      "(array([3, 4]),)\n"
     ]
    }
   ],
   "source": [
    "arr = np.array([10,20,30,40,50])\n",
    "# 조건만 넣을 경우 조건을 만족하는 원소의 인덱스를 반환\n",
    "result = np.where(arr > 30)\n",
    "print(result)\n",
    "print(arr[result])  # 원본 배열에 Fancy indexing"
   ]
  },
  {
   "cell_type": "code",
   "execution_count": null,
   "id": "81ab3436",
   "metadata": {},
   "outputs": [
    {
     "name": "stdout",
     "output_type": "stream",
     "text": [
      "[False  True  True  True False]\n",
      "&연산:  [20 30 40]\n",
      "|연산:  [10 50]\n",
      "~연산:  [10 20 30]\n"
     ]
    }
   ],
   "source": [
    "# 논리 연산\n",
    "# and : & → 모든 조건이 True여야 True\n",
    "# or : | → 조건 중 하나라도 True면 True\n",
    "# not : ~ → True를 False로, False를 True로\n",
    "\n",
    "# and 연산(&) \n",
    "arr = np.array([10,20,30,40,50])\n",
    "mask = (arr > 10) & (arr < 50)\n",
    "print(mask)\n",
    "print(\"&연산: \", arr[mask])\n",
    "\n",
    "# or 연산(|) \n",
    "mask_or = (arr < 20) | (arr > 40)\n",
    "print(\"|연산: \", arr[mask_or])\n",
    "\n",
    "# not 연산(~)\n",
    "mask_not = ~(arr > 30)\n",
    "print(\"~연산: \", arr[mask_not])\n"
   ]
  },
  {
   "cell_type": "code",
   "execution_count": 83,
   "id": "e91abb7c",
   "metadata": {},
   "outputs": [
    {
     "name": "stdout",
     "output_type": "stream",
     "text": [
      "[52 54 56 58 60 62 64 66 68 70 72 74 76 78 80 82 84 86 88 90 92 94 96 98]\n"
     ]
    }
   ],
   "source": [
    "arr = np.arange(0,100)\n",
    "mask = (arr % 2 == 0) & (arr > 50)\n",
    "print(arr[mask])"
   ]
  },
  {
   "cell_type": "code",
   "execution_count": 100,
   "id": "762096ff",
   "metadata": {},
   "outputs": [
    {
     "name": "stdout",
     "output_type": "stream",
     "text": [
      "문제 1.\n",
      " [12 18]\n",
      "문제 2.\n",
      " [10 15 30 35]\n",
      "문제 3.\n",
      " [3 8 0 6 2 0]\n",
      "문제 4.\n",
      " ['Low' 'Low' 'High' 'High' 'High']\n",
      "문제 5.\n",
      " [ 0 10  2 30  4 50  6 70  8 90]\n",
      "문제 6.\n",
      " [25 30 40 20 35]\n",
      "문제 7.\n",
      " [1 2 4 5]\n",
      "문제 8.\n",
      " [50 50 96 50 97 68 50 51 50 50]\n",
      "문제 8.\n",
      " [['C' 'B' 'A']\n",
      " ['C' 'A' 'C']\n",
      " ['B' 'B' 'A']]\n"
     ]
    }
   ],
   "source": [
    "# 실습. 논리 연산과 조건 연산\n",
    "# 1. 1차원 배열 [5, 12, 18, 7, 30, 25]에서 10보다 크고 20보다 작은 값만 필터링하세요.\n",
    "arr = np.array([5, 12, 18, 7, 30, 25])\n",
    "mask = (arr > 10) & (arr < 20)\n",
    "print(\"문제 1.\\n\", arr[mask])\n",
    "# 2. 0배열 [10, 15, 20, 25, 30, 35]에서 15 이하이거나 30 이상인 값만 선택하세요\n",
    "arr = np.array([10, 15, 20, 25, 30, 35])\n",
    "mask = (arr <= 15) | (arr >= 30)\n",
    "print(\"문제 2.\\n\", arr[mask])\n",
    "# 3. 배열 [3, 8, 15, 6, 2, 20]에서 10 이상인 값을 모두 0으로 변경하세요.\n",
    "arr = np.array([3, 8, 15, 6, 2, 20])\n",
    "print(\"문제 3.\\n\", np.where(arr >= 10, 0, arr))\n",
    "# 다른 방법:\n",
    "# arr[arr >= 10] = 0\n",
    "# print(arr)\n",
    "# 4. 배열 [7, 14, 21, 28, 35]에서 20 이상인 값은 \"High\", 나머지는 \"Low\"로 표시하는 새로운 배열을 생성하세요.\n",
    "arr = np.array([7, 14, 21, 28, 35])\n",
    "print(\"문제 4.\\n\",np.where(arr >= 20, \"High\", \"Low\"))\n",
    "# 5. 0~9 범위의 배열에서 짝수는 그대로 두고, 홀수는 홀수 값 × 10으로 변환한 배열을 만드세요\n",
    "arr = np.arange(0,10)\n",
    "print(\"문제 5.\\n\", np.where(arr % 2 ==0, arr, arr * 10))\n",
    "# 6. 아래 2차원 배열 에서 20 이상 40 이하인 값만 선택하세요.\n",
    "arr = np.array([[10, 25, 30],\n",
    "        [40, 5, 15],\n",
    "        [20, 35, 50]])\n",
    "mask = (arr >= 20) & (arr <= 40)\n",
    "print(\"문제 6.\\n\", arr[mask])\n",
    "# 7. 배열 [1, 2, 3, 4, 5, 6]에서 3의 배수가 아닌 값만 선택하세요.\n",
    "arr = np.array([1, 2, 3, 4, 5, 6])\n",
    "mask = ~(arr % 3 == 0)\n",
    "print(\"문제 7.\\n\", arr[mask])\n",
    "# 8. 랜덤 정수(0~100) 10개 배열에서 아래와 같이 새로운 배열을 만드세요.\n",
    "#   • 50 이상인 값은 그대로\n",
    "#   • 50 미만인 값은 50으로 변경\n",
    "arr_rand = np.random.randint(0, 101, size=10)\n",
    "print(\"문제 8.\\n\", np.where(arr_rand >= 50, arr_rand, 50))\n",
    "# 9. 2차원 배열에서 아래와 같이 분류된 문자열 배열을 생성하세요.\n",
    "#   • 70 이상 → \"A\"\n",
    "#   • 30 이상 70 미만 → \"B\"\n",
    "#   • 30 미만 → \"C“\n",
    "arr = np.array([[5, 50, 95],\n",
    "                [20, 75, 10],\n",
    "                [60, 30, 85]])\n",
    "print(\"문제 8.\\n\",  np.where(arr >= 70, \"A\", \n",
    "                           np.where(arr>= 30, \"B\", \"C\")))"
   ]
  },
  {
   "cell_type": "markdown",
   "id": "30b0e895",
   "metadata": {},
   "source": [
    "### 2-4. 행렬 곱셈\n",
    "- 두 행렬을 곱해서 새로운 행렬을 생성하는 연산\n",
    "- 첫번째 행렬의 열수와 두번째 행렬의 행수가 같아야 곱셈이 가능\n",
    "- np.dot(), np.matmul() → 행렬의 곱셈의 경우 matmul 사용을 권장"
   ]
  },
  {
   "cell_type": "code",
   "execution_count": null,
   "id": "1af49a97",
   "metadata": {},
   "outputs": [
    {
     "name": "stdout",
     "output_type": "stream",
     "text": [
      "12\n"
     ]
    }
   ],
   "source": [
    "# np.dot(a,b) : 배열의 내적 연산\n",
    "# 스칼라 연산\n",
    "a = np.array(3)\n",
    "b = np.array(4)\n",
    "print(np.dot(a,b))"
   ]
  },
  {
   "cell_type": "code",
   "execution_count": null,
   "id": "f19ead96",
   "metadata": {},
   "outputs": [
    {
     "name": "stdout",
     "output_type": "stream",
     "text": [
      "32\n",
      "111000\n"
     ]
    }
   ],
   "source": [
    "# 1차원 배열 간 연산 → 내적\n",
    "a = np.array([1,2,3])\n",
    "b = np.array([4,5,6])\n",
    "print(np.dot(a,b))\n",
    "\n",
    "# 물건 구매\n",
    "# 데이터 분석에서 벡터란 배열\n",
    "c = [1000, 2000,5000, 10000]\n",
    "d = [10, 3, 5, 7]\n",
    "print(np.dot(c,d))"
   ]
  },
  {
   "cell_type": "code",
   "execution_count": 107,
   "id": "67ccdc33",
   "metadata": {},
   "outputs": [
    {
     "name": "stdout",
     "output_type": "stream",
     "text": [
      "[[22 28]\n",
      " [49 64]]\n"
     ]
    }
   ],
   "source": [
    "# 2차원 배열 간 연산 → 행렬 곱셈\n",
    "a = np.array([[1,2,3], [4,5,6]])\n",
    "b = np.array([[1,2], [3,4], [5,6]])\n",
    "print(np.dot(a,b))"
   ]
  },
  {
   "cell_type": "code",
   "execution_count": 108,
   "id": "1d3d4597",
   "metadata": {},
   "outputs": [
    {
     "ename": "ValueError",
     "evalue": "matmul: Input operand 0 does not have enough dimensions (has 0, gufunc core with signature (n?,k),(k,m?)->(n?,m?) requires 1)",
     "output_type": "error",
     "traceback": [
      "\u001b[31m---------------------------------------------------------------------------\u001b[39m",
      "\u001b[31mValueError\u001b[39m                                Traceback (most recent call last)",
      "\u001b[36mCell\u001b[39m\u001b[36m \u001b[39m\u001b[32mIn[108]\u001b[39m\u001b[32m, line 6\u001b[39m\n\u001b[32m      4\u001b[39m a = np.array(\u001b[32m3\u001b[39m)\n\u001b[32m      5\u001b[39m b = np.array(\u001b[32m4\u001b[39m)\n\u001b[32m----> \u001b[39m\u001b[32m6\u001b[39m \u001b[38;5;28mprint\u001b[39m(\u001b[43mnp\u001b[49m\u001b[43m.\u001b[49m\u001b[43mmatmul\u001b[49m\u001b[43m(\u001b[49m\u001b[43ma\u001b[49m\u001b[43m,\u001b[49m\u001b[43mb\u001b[49m\u001b[43m)\u001b[49m)\n",
      "\u001b[31mValueError\u001b[39m: matmul: Input operand 0 does not have enough dimensions (has 0, gufunc core with signature (n?,k),(k,m?)->(n?,m?) requires 1)"
     ]
    }
   ],
   "source": [
    "# np.matmul(a,b)\n",
    "# Matrix Multiplication\n",
    "# 스칼라 연산 시도시 에러\n",
    "a = np.array(3)\n",
    "b = np.array(4)\n",
    "print(np.matmul(a,b))"
   ]
  },
  {
   "cell_type": "code",
   "execution_count": null,
   "id": "fe07cd0f",
   "metadata": {},
   "outputs": [
    {
     "name": "stdout",
     "output_type": "stream",
     "text": [
      "11\n"
     ]
    }
   ],
   "source": [
    "# 1차원 배열 간 연산 → 내적\n",
    "a = np.array([1,2])\n",
    "b = np.array([3,4])\n",
    "print(np.matmul(a,b))"
   ]
  },
  {
   "cell_type": "code",
   "execution_count": null,
   "id": "b78dad15",
   "metadata": {},
   "outputs": [
    {
     "name": "stdout",
     "output_type": "stream",
     "text": [
      "[[22 28]\n",
      " [49 64]]\n",
      "\n",
      "[17 39]\n",
      "[23 34]\n",
      "\n",
      "[22 28]\n",
      "[22 28]\n"
     ]
    }
   ],
   "source": [
    "# 2차원 배열 간 연산 → 행렬 곱셈\n",
    "a = np.array([[1,2,3], [4,5,6]])\n",
    "b = np.array([[1,2], [3,4], [5,6]])\n",
    "print(np.matmul(a,b))\n",
    "print()\n",
    "\n",
    "# 2d * 1d 간 연산\n",
    "c = np.array([[1,2], [3,4]])\n",
    "d = np.array([5,6])\n",
    "print(np.matmul(c,d))\n",
    "print(np.matmul(d,c))\n",
    "print()\n",
    "\n",
    "# @ 연산자\n",
    "e = np.array([1,2,3])\n",
    "f = np.array([[1,2], [3,4], [5,6]])\n",
    "print(np.matmul(e,f))\n",
    "print(e @ f)"
   ]
  },
  {
   "cell_type": "code",
   "execution_count": 138,
   "id": "7736518f",
   "metadata": {},
   "outputs": [
    {
     "name": "stdout",
     "output_type": "stream",
     "text": [
      "문제1.\n",
      " [[12 12]\n",
      " [30 30]\n",
      " [48 48]]\n",
      "\n",
      "문제2.\n",
      "I x M:\n",
      " [[2. 4. 5. 0.]\n",
      " [4. 2. 7. 1.]\n",
      " [2. 9. 6. 6.]\n",
      " [2. 1. 1. 5.]]\n",
      "M:\n",
      " [[2 4 5 0]\n",
      " [4 2 7 1]\n",
      " [2 9 6 6]\n",
      " [2 1 1 5]]\n",
      "\n",
      "문제3.\n",
      " [[45. 50.]\n",
      " [45. 50.]]\n",
      "\n",
      "문제4.\n",
      " [[12  9 12]\n",
      " [ 6  8  0]\n",
      " [ 3  4  0]]\n",
      "shape:\n",
      " (3, 3)\n"
     ]
    }
   ],
   "source": [
    "# 실습. 행렬 곱셈\n",
    "# 1. 1부터 9까지의 정수로 채워진 (3, 3) 배열 A와, 모두 2로 채워진 (3, 2) 배열 B를 만들고 곱하세요.\n",
    "a = np.arange(1,10).reshape(3,3)\n",
    "b = np.full((3,2), 2)\n",
    "print(\"문제1.\\n\", np.dot(a,b))\n",
    "print()\n",
    "# 2. 4×4 단위행렬 I와, 4×4 난수 행렬 M(0~9 사이 정수) 간의 곱을 구하고, 결과와 M이 동일한지 확인하세요\n",
    "i = np.eye(4)\n",
    "m = np.random.randint(0, 10, (4,4))\n",
    "print(\"문제2.\\nI x M:\\n\", np.matmul(i,m))\n",
    "print(\"M:\\n\", m)\n",
    "#   + 같은 위치에 있는 원소끼리 곱함\n",
    "#   print(\"m*i:\\n\",m*i)\n",
    "print()\n",
    "# 3.  모든 값이 1인 (2, 5) 배열 X와, 5부터 14까지의 연속된 정수로 채워진 (5, 2) 배열 Y를 만들어 곱하세요.\n",
    "x = np.ones((2,5))\n",
    "y = np.arange(5,15).reshape(5,2)\n",
    "print(\"문제3.\\n\", x @ y)\n",
    "print()\n",
    "# 4. 0 이상 5 미만의 임의의 정수로 채워진 (3, 2) 배열 C와 (2, 3) 배열 D를 각각 만들어 곱한 결과의 shape와 값을 출력하세요.\n",
    "c = np.random.randint(0, 5, (3,2))\n",
    "d = np.random.randint(0, 5, (2,3))\n",
    "print(\"문제4.\\n\", c @ d)\n",
    "print(\"shape:\\n\", np.matmul(c,d).shape)"
   ]
  }
 ],
 "metadata": {
  "kernelspec": {
   "display_name": "data_analysis",
   "language": "python",
   "name": "python3"
  },
  "language_info": {
   "codemirror_mode": {
    "name": "ipython",
    "version": 3
   },
   "file_extension": ".py",
   "mimetype": "text/x-python",
   "name": "python",
   "nbconvert_exporter": "python",
   "pygments_lexer": "ipython3",
   "version": "3.13.5"
  }
 },
 "nbformat": 4,
 "nbformat_minor": 5
}
