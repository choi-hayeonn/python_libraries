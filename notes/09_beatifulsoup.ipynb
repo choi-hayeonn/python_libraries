{
 "cells": [
  {
   "cell_type": "markdown",
   "id": "705a8686",
   "metadata": {},
   "source": [
    "## 09. BeautifulSoup\n",
    "- HTML과 XML파일에서 데이터를 추출하기 위한 라이브러리"
   ]
  },
  {
   "cell_type": "code",
   "execution_count": 38,
   "id": "87bb3dc0",
   "metadata": {},
   "outputs": [
    {
     "name": "stderr",
     "output_type": "stream",
     "text": [
      "c:\\Users\\Administrator\\conda3\\envs\\data_analysis\\Lib\\site-packages\\requests\\__init__.py:86: RequestsDependencyWarning: Unable to find acceptable character detection dependency (chardet or charset_normalizer).\n",
      "  warnings.warn(\n"
     ]
    }
   ],
   "source": [
    "from bs4 import BeautifulSoup\n",
    "import requests"
   ]
  },
  {
   "cell_type": "code",
   "execution_count": 33,
   "id": "93ca3b17",
   "metadata": {},
   "outputs": [
    {
     "name": "stdout",
     "output_type": "stream",
     "text": [
      "<!DOCTYPE html>\n",
      "<html lang=\"en\">\n",
      " <head>\n",
      "  <meta charset=\"utf-8\"/>\n",
      "  <meta content=\"width=device-width, initial-scale=1.0\" name=\"viewport\"/>\n",
      "  <title>\n",
      "   Document\n",
      "  </title>\n",
      " </head>\n",
      " <body>\n",
      "  <h1 class=\"title\">\n",
      "   Hello BeautifulSoup\n",
      "  </h1>\n",
      "  <h1 class=\"sub_title\">\n",
      "   안녕! 아름다운 수프\n",
      "  </h1>\n",
      "  <p id=\"description\">\n",
      "   이 페이지는 BeautifulSoup 학습을 위한 예제입니다.\n",
      "  </p>\n",
      "  <ul class=\"items\">\n",
      "   <li data-id=\"1\">\n",
      "    사과\n",
      "   </li>\n",
      "   <li data-id=\"2\">\n",
      "    바나나\n",
      "   </li>\n",
      "   <li data-id=\"3\">\n",
      "    체리\n",
      "   </li>\n",
      "  </ul>\n",
      "  <ul class=\"items\">\n",
      "   <li data-id=\"1\">\n",
      "    python\n",
      "   </li>\n",
      "   <li data-id=\"2\">\n",
      "    C++\n",
      "   </li>\n",
      "   <li data-id=\"3\">\n",
      "    SQL\n",
      "   </li>\n",
      "  </ul>\n",
      " </body>\n",
      "</html>\n",
      "\n"
     ]
    }
   ],
   "source": [
    "with open(\"test.html\", \"r\", encoding=\"utf-8\") as f:\n",
    "    html_data = f.read()\n",
    "\n",
    "# soup 객체 생성\n",
    "# soup = BeautifulSoup(html_data, \"html.parser\")  # 내장되어있는 파서\n",
    "soup = BeautifulSoup(html_data, \"lxml\")         # 설치해줘야 하는 파서\n",
    "\n",
    "# print(soup)\n",
    "print(soup.prettify())  # 정렬된 상태"
   ]
  },
  {
   "cell_type": "code",
   "execution_count": 15,
   "id": "99b9ee5f",
   "metadata": {},
   "outputs": [
    {
     "name": "stdout",
     "output_type": "stream",
     "text": [
      "<h1 class=\"title\">Hello BeautifulSoup</h1>\n",
      "Hello BeautifulSoup\n",
      "Hello BeautifulSoup\n"
     ]
    }
   ],
   "source": [
    "# 데이터 선택\n",
    "# find() - 첫번째 매칭 요소 선택\n",
    "# 태그를 기준으로 탐색\n",
    "result = soup.find(\"h1\")\n",
    "print(result)\n",
    "print(result.text)\n",
    "print(result.get_text(strip=True))      # 공백 제거"
   ]
  },
  {
   "cell_type": "code",
   "execution_count": 31,
   "id": "8dc75ab4",
   "metadata": {},
   "outputs": [
    {
     "name": "stdout",
     "output_type": "stream",
     "text": [
      "안녕! 아름다운 수프\n"
     ]
    }
   ],
   "source": [
    "# find() - 속성 조건으로 검색 가능\n",
    "result = soup.find(\"h1\", class_=\"sub_title\")\n",
    "print(result.text)"
   ]
  },
  {
   "cell_type": "code",
   "execution_count": 24,
   "id": "4bf31492",
   "metadata": {},
   "outputs": [
    {
     "name": "stdout",
     "output_type": "stream",
     "text": [
      "Hello BeautifulSoup\n",
      "안녕! 아름다운 수프\n"
     ]
    }
   ],
   "source": [
    "# find_all() - 모든 매칭된 요소 선택\n",
    "result = soup.find_all(\"h1\")\n",
    "#print(result)\n",
    "\n",
    "for i in result: print(i.text)"
   ]
  },
  {
   "cell_type": "code",
   "execution_count": 36,
   "id": "b0a80fdd",
   "metadata": {},
   "outputs": [
    {
     "name": "stdout",
     "output_type": "stream",
     "text": [
      "[<ul class=\"items\">\n",
      "<li data-id=\"1\">사과</li>\n",
      "<li data-id=\"2\">바나나</li>\n",
      "<li data-id=\"3\">체리</li>\n",
      "</ul>, <ul class=\"items\">\n",
      "<li data-id=\"1\">python</li>\n",
      "<li data-id=\"2\">C++</li>\n",
      "<li data-id=\"3\">SQL</li>\n",
      "</ul>]\n",
      "\n",
      "사과\n",
      "바나나\n",
      "체리\n",
      "\n",
      "\n",
      "python\n",
      "C++\n",
      "SQL\n",
      "\n"
     ]
    }
   ],
   "source": [
    "# select() - 모든 매칭 요소 선택\n",
    "# CSS 선택자로 탐색\n",
    "#result = soup.select(\"ul:nth-child(4)\")\n",
    "result = soup.select(\"ul.items\")\n",
    "print(result)\n",
    "for i in result:\n",
    "    print(i.text)"
   ]
  },
  {
   "cell_type": "code",
   "execution_count": null,
   "id": "a10d65d6",
   "metadata": {},
   "outputs": [
    {
     "name": "stdout",
     "output_type": "stream",
     "text": [
      "<ul class=\"items\">\n",
      "<li data-id=\"1\">사과</li>\n",
      "<li data-id=\"2\">바나나</li>\n",
      "<li data-id=\"3\">체리</li>\n",
      "</ul>\n"
     ]
    }
   ],
   "source": [
    "# select_one() - 첫번째 매칭 요소 선택\n",
    "result = soup.select_one(\"ul.items\")\n",
    "print(result)"
   ]
  },
  {
   "cell_type": "code",
   "execution_count": 69,
   "id": "5a1bf1fb",
   "metadata": {},
   "outputs": [
    {
     "name": "stdout",
     "output_type": "stream",
     "text": [
      "1. Golden\n",
      "2. FAMOUS\n",
      "3. 뛰어(JUMP)\n",
      "4. Soda Pop\n",
      "5. Drowning\n",
      "6. Dirty Work\n",
      "7. 시작의 아이\n",
      "8. WICKED\n",
      "9. 너에게 닿기를\n",
      "10. Your Idol\n"
     ]
    }
   ],
   "source": [
    "# requests와 함께 사용\n",
    "# requests : 웹 사이트에서 데이터를 송수신 할 수 있는 라이브러리\n",
    "# 멜론에서 Top10의 노래 제목을 받아오기\n",
    "\n",
    "url = \"https://www.melon.com/chart/index.htm\"\n",
    "\n",
    "headers = {\n",
    "    \"User-Agent\" : \"Mozilla/5.0\"        # 크롤링을 하는 나는 로봇이 아닌 사람입니다~ 라는 뜻\n",
    "}\n",
    "\n",
    "response = requests.get(url, headers = headers)\n",
    "\n",
    "\n",
    "soup = BeautifulSoup(response.text, \"lxml\")\n",
    "\n",
    "songs = soup.select(\"div.ellipsis.rank01 a\")[:10]\n",
    "#songs = soup.select(\"#lst50 > td:nth-child(6) > div > div > div.ellipsis.rank01\")[:10]\n",
    "\n",
    "\n",
    "for idx, song in enumerate(songs):\n",
    "    print(f\"{idx+1}. {song.text}\")"
   ]
  },
  {
   "cell_type": "code",
   "execution_count": 73,
   "id": "7bc5b607",
   "metadata": {},
   "outputs": [
    {
     "name": "stdout",
     "output_type": "stream",
     "text": [
      "== 2025-08-11\n",
      "[단독]서울 도심 폐공장서 총·실탄 100발 발견/링크: https://www.munhwa.com/article/11525143?ref=naver\n",
      "https://www.munhwa.com/article/11525143?ref=naver\n",
      "특검 “김건희 구금 장소 서울구치소→남부구치소 변경신청”/링크: https://www.kmib.co.kr/article/view.asp?arcid=0028525522&code=61121111&cp=nv\n",
      "https://www.kmib.co.kr/article/view.asp?arcid=0028525522&code=61121111&cp=nv\n",
      "서울구치소 “윤 강제인치 현저히 곤란…물리력 행사 시 사고 우려”/링크: https://news.jtbc.co.kr/article/NB12258285?influxDiv=NAVER\n",
      "https://news.jtbc.co.kr/article/NB12258285?influxDiv=NAVER\n",
      "[단독] 해군 장성까지 번진 웨딩홀 비리, 서울경찰청 광역수사단 수사 .../링크: https://www.ohmynews.com/NWS_Web/View/at_pg.aspx?CNTN_CD=A0003156073&CMPT_CD=P0010&utm_source=naver&utm_medium=newsearch&utm_campaign=naver_news\n",
      "https://www.ohmynews.com/NWS_Web/View/at_pg.aspx?CNTN_CD=A0003156073&CMPT_CD=P0010&utm_source=naver&utm_medium=newsearch&utm_campaign=naver_news\n"
     ]
    }
   ],
   "source": [
    "# 실습. 웹 크롤링 실습\n",
    "# 사용자에게 검색어를 입력 받아 검색된 뉴스의 제목과 링크 가져와 보세요.\n",
    "import datetime\n",
    "\n",
    "word = input(\"검색어를 입력하세요\")\n",
    "\n",
    "url = f\"https://search.naver.com/search.naver?&query={word}\"\n",
    "\n",
    "headers = {\n",
    "    \"User-Agent\" : \"Mozilla/5.0\"        \n",
    "}\n",
    "\n",
    "response = requests.get(url, headers = headers)\n",
    "\n",
    "soup = BeautifulSoup(response.text, \"lxml\")\n",
    "\n",
    "news_list = soup.select(\"a.BxOYkTUC7zH9xrtyOwDx.a2OpSM_aSvFbHwpL_f8N\")\n",
    "\n",
    "\n",
    "print(f\"== {datetime.date.today()}\")\n",
    "for a in news_list:\n",
    "    print(f\"{a.get_text()}/링크: {a.get(\"href\")}\")\n",
    "    print(a.get(\"href\"))"
   ]
  }
 ],
 "metadata": {
  "kernelspec": {
   "display_name": "data_analysis",
   "language": "python",
   "name": "python3"
  },
  "language_info": {
   "codemirror_mode": {
    "name": "ipython",
    "version": 3
   },
   "file_extension": ".py",
   "mimetype": "text/x-python",
   "name": "python",
   "nbconvert_exporter": "python",
   "pygments_lexer": "ipython3",
   "version": "3.13.5"
  }
 },
 "nbformat": 4,
 "nbformat_minor": 5
}
