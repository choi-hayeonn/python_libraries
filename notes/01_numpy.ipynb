{
 "cells": [
  {
   "cell_type": "markdown",
   "id": "8db1adf1",
   "metadata": {},
   "source": [
    "### 01. Numpy\n",
    "- 다차원 배열을 쉽고 효율적으로 사용할 수 있도록 지원하는 파이썬 라이브러리\n",
    "- 데이터 분석 라이브러리의 근본!!  "
   ]
  },
  {
   "cell_type": "markdown",
   "id": "50075b85",
   "metadata": {},
   "source": [
    "### 1-1. ndarray\n",
    "- NymPy의 핵심 데이터 구조\n",
    "- 동일한 자료형의 다차원 배열"
   ]
  },
  {
   "cell_type": "code",
   "execution_count": 7,
   "id": "5b6d3283",
   "metadata": {},
   "outputs": [],
   "source": [
    "import numpy as np"
   ]
  },
  {
   "cell_type": "code",
   "execution_count": 19,
   "id": "e59d30e9",
   "metadata": {},
   "outputs": [
    {
     "name": "stdout",
     "output_type": "stream",
     "text": [
      "배열의 구조: (2, 3)\n",
      "배열의 차원: 2\n",
      "배열 a의 데이터 타입: int64\n",
      "배열 b의 데이터 타입: float64\n",
      "배열 new_a의 데이터 타입: float64\n"
     ]
    }
   ],
   "source": [
    "# ndarray의 생성\n",
    "a = np.array([[1,2,3],[4,5,6]])\n",
    "b = np.array([1.0, 3.14, 1.24])\n",
    "\n",
    "# 배열의 구조\n",
    "print(f\"배열의 구조: {a.shape}\")\n",
    "\n",
    "# 배열의 차원 수 \n",
    "print(f\"배열의 차원: {a.ndim}\")\n",
    "\n",
    "# 데이터 타입\n",
    "print(f\"배열 a의 데이터 타입: {a.dtype}\")\n",
    "print(f\"배열 b의 데이터 타입: {b.dtype}\")\n",
    "\n",
    "# 형변환\n",
    "new_a = a.astype(np.float64)\n",
    "print(f\"배열 new_a의 데이터 타입: {new_a.dtype}\")"
   ]
  },
  {
   "cell_type": "code",
   "execution_count": 14,
   "id": "19711b72",
   "metadata": {},
   "outputs": [
    {
     "name": "stdout",
     "output_type": "stream",
     "text": [
      "배열의 구조: (3, 2, 3)\n",
      "배열의 차원: 3\n"
     ]
    }
   ],
   "source": [
    "# 3차원 행렬\n",
    "a = np.array([[[1,2,3],[4,5,6]], \n",
    "                [[1,2,3],[4,5,6]],\n",
    "                [[1,2,3],[4,5,6]]])\n",
    "print(f\"배열의 구조: {a.shape}\")\n",
    "print(f\"배열의 차원: {a.ndim}\")"
   ]
  },
  {
   "cell_type": "code",
   "execution_count": 16,
   "id": "f77e02f3",
   "metadata": {},
   "outputs": [
    {
     "name": "stdout",
     "output_type": "stream",
     "text": [
      "배열의 구조: (1, 6, 2, 3)\n",
      "배열의 차원: 4\n"
     ]
    }
   ],
   "source": [
    "# 4차원 행렬\n",
    "a = np.array([[[[1,2,3],[4,5,6]], \n",
    "                [[1,2,3],[4,5,6]], \n",
    "                [[1,2,3],[4,5,6]],    \n",
    "                [[1,2,3],[4,5,6]], \n",
    "                [[1,2,3],[4,5,6]], \n",
    "                [[1,2,3],[4,5,6]]]])\n",
    "print(f\"배열의 구조: {a.shape}\")\n",
    "print(f\"배열의 차원: {a.ndim}\")"
   ]
  },
  {
   "cell_type": "code",
   "execution_count": 18,
   "id": "bd3228db",
   "metadata": {},
   "outputs": [
    {
     "ename": "ValueError",
     "evalue": "setting an array element with a sequence. The requested array has an inhomogeneous shape after 1 dimensions. The detected shape was (2,) + inhomogeneous part.",
     "output_type": "error",
     "traceback": [
      "\u001b[31m---------------------------------------------------------------------------\u001b[39m",
      "\u001b[31mValueError\u001b[39m                                Traceback (most recent call last)",
      "\u001b[36mCell\u001b[39m\u001b[36m \u001b[39m\u001b[32mIn[18]\u001b[39m\u001b[32m, line 3\u001b[39m\n\u001b[32m      1\u001b[39m \u001b[38;5;66;03m# 만들 수 없는 행렬\u001b[39;00m\n\u001b[32m      2\u001b[39m \u001b[38;5;66;03m# 내부 배열의 구조가 같아야 함.\u001b[39;00m\n\u001b[32m----> \u001b[39m\u001b[32m3\u001b[39m a = \u001b[43mnp\u001b[49m\u001b[43m.\u001b[49m\u001b[43marray\u001b[49m\u001b[43m(\u001b[49m\u001b[43m[\u001b[49m\u001b[32;43m1\u001b[39;49m\u001b[43m,\u001b[49m\u001b[43m \u001b[49m\u001b[43m[\u001b[49m\u001b[32;43m2\u001b[39;49m\u001b[43m,\u001b[49m\u001b[32;43m3\u001b[39;49m\u001b[43m]\u001b[49m\u001b[43m]\u001b[49m\u001b[43m)\u001b[49m\n",
      "\u001b[31mValueError\u001b[39m: setting an array element with a sequence. The requested array has an inhomogeneous shape after 1 dimensions. The detected shape was (2,) + inhomogeneous part."
     ]
    }
   ],
   "source": [
    "# 만들 수 없는 행렬\n",
    "# 내부 배열의 구조가 같아야 함.\n",
    "a = np.array([1, [2,3]])"
   ]
  },
  {
   "cell_type": "markdown",
   "id": "b0590b59",
   "metadata": {},
   "source": [
    "### 1-2. 배열 초기화"
   ]
  },
  {
   "cell_type": "code",
   "execution_count": null,
   "id": "871e189c",
   "metadata": {},
   "outputs": [
    {
     "data": {
      "text/plain": [
       "array([[[0, 0, 0, 0],\n",
       "        [0, 0, 0, 0],\n",
       "        [0, 0, 0, 0]],\n",
       "\n",
       "       [[0, 0, 0, 0],\n",
       "        [0, 0, 0, 0],\n",
       "        [0, 0, 0, 0]]])"
      ]
     },
     "execution_count": 10,
     "metadata": {},
     "output_type": "execute_result"
    }
   ],
   "source": [
    "# 모든 요소가 0인 배열\n",
    "np.zeros((3,4))    # 2차원\n",
    "np.zeros((2,3,4), dtype=np.int64)   # 3차원"
   ]
  },
  {
   "cell_type": "code",
   "execution_count": 11,
   "id": "95ed117e",
   "metadata": {},
   "outputs": [
    {
     "data": {
      "text/plain": [
       "array([[1., 1., 1., 1., 1., 1.],\n",
       "       [1., 1., 1., 1., 1., 1.],\n",
       "       [1., 1., 1., 1., 1., 1.],\n",
       "       [1., 1., 1., 1., 1., 1.],\n",
       "       [1., 1., 1., 1., 1., 1.]])"
      ]
     },
     "execution_count": 11,
     "metadata": {},
     "output_type": "execute_result"
    }
   ],
   "source": [
    "# 모든 요소가 1인 배열\n",
    "np.ones((5,6))     # 2차원"
   ]
  },
  {
   "cell_type": "code",
   "execution_count": 12,
   "id": "cce5df3b",
   "metadata": {},
   "outputs": [
    {
     "data": {
      "text/plain": [
       "array([[1.04914920e-153, 6.26089492e-143, 3.68977620e+180],\n",
       "       [4.30512406e-096, 1.50598685e+161, 1.04917752e-153]])"
      ]
     },
     "execution_count": 12,
     "metadata": {},
     "output_type": "execute_result"
    }
   ],
   "source": [
    "# (원소의 값이) 초기화 되지 않은 배열 생성\n",
    "np.empty((2,3))"
   ]
  },
  {
   "cell_type": "code",
   "execution_count": 17,
   "id": "e7d1c172",
   "metadata": {},
   "outputs": [
    {
     "data": {
      "text/plain": [
       "array([[7, 7, 7],\n",
       "       [7, 7, 7],\n",
       "       [7, 7, 7]])"
      ]
     },
     "execution_count": 17,
     "metadata": {},
     "output_type": "execute_result"
    }
   ],
   "source": [
    "# 주어진 값으로 채운 배열\n",
    "np.full((3,3), 7)"
   ]
  },
  {
   "cell_type": "code",
   "execution_count": null,
   "id": "62861783",
   "metadata": {},
   "outputs": [
    {
     "data": {
      "text/plain": [
       "array([[0., 1., 0., 0., 0.],\n",
       "       [0., 0., 1., 0., 0.],\n",
       "       [0., 0., 0., 1., 0.]])"
      ]
     },
     "execution_count": 22,
     "metadata": {},
     "output_type": "execute_result"
    }
   ],
   "source": [
    "# 단위 행렬\n",
    "np.eye(3,3)\n",
    "np.eye(3,5)\n",
    "np.eye(3,5,1)   # 3번째 인자를 입력 → 1이 오른쪽으로 이동"
   ]
  },
  {
   "cell_type": "code",
   "execution_count": null,
   "id": "986998d4",
   "metadata": {},
   "outputs": [],
   "source": [
    "### 1-3. 범위 기반 배열 생성"
   ]
  },
  {
   "cell_type": "code",
   "execution_count": null,
   "id": "c7dd5493",
   "metadata": {},
   "outputs": [
    {
     "data": {
      "text/plain": [
       "array([0, 2, 4, 6, 8])"
      ]
     },
     "execution_count": 24,
     "metadata": {},
     "output_type": "execute_result"
    }
   ],
   "source": [
    "# arange : range()와 유사한 기능을 제공\n",
    "# 시작 이상, 끝 미만의 정수 배열을 지정한 간격으로 생성\n",
    "np.arange(0,10)\n",
    "np.arange(0,10,2)   # 간격 지정"
   ]
  },
  {
   "cell_type": "code",
   "execution_count": 29,
   "id": "4f622d8b",
   "metadata": {},
   "outputs": [
    {
     "data": {
      "text/plain": [
       "array([0.1, 0.2, 0.3, 0.4, 0.5, 0.6, 0.7, 0.8, 0.9, 1. ])"
      ]
     },
     "execution_count": 29,
     "metadata": {},
     "output_type": "execute_result"
    }
   ],
   "source": [
    "# linspace : 시작~끝까지 균일 간격으로 지정한 개수만큼 숫자를 생성\n",
    "# 끝을 포함\n",
    "np.linspace(10, 100, 10)\n",
    "np.linspace(0.1, 1, 10)"
   ]
  },
  {
   "cell_type": "code",
   "execution_count": 31,
   "id": "ecbb3af0",
   "metadata": {},
   "outputs": [
    {
     "data": {
      "text/plain": [
       "array([[  5.,  10.,  15.,  20.,  25.],\n",
       "       [ 30.,  35.,  40.,  45.,  50.],\n",
       "       [ 55.,  60.,  65.,  70.,  75.],\n",
       "       [ 80.,  85.,  90.,  95., 100.]])"
      ]
     },
     "execution_count": 31,
     "metadata": {},
     "output_type": "execute_result"
    }
   ],
   "source": [
    "# reshape : 배열의 구조를 재배치\n",
    "np.linspace(1, 10, 6).reshape((2,3))\n",
    "# np.linspace(1, 10, 10).reshape((2,3))   # 원소의 개수가 같아야 함\n",
    "np.linspace(5, 100, 20).reshape((4,5))"
   ]
  },
  {
   "cell_type": "markdown",
   "id": "8a8d0851",
   "metadata": {},
   "source": [
    "### 1-4. 랜덤 배열 생성"
   ]
  },
  {
   "cell_type": "code",
   "execution_count": 32,
   "id": "b587d117",
   "metadata": {},
   "outputs": [
    {
     "data": {
      "text/plain": [
       "array([[0.7131586 , 0.50415358, 0.89527452],\n",
       "       [0.75240986, 0.84711718, 0.03590392]])"
      ]
     },
     "execution_count": 32,
     "metadata": {},
     "output_type": "execute_result"
    }
   ],
   "source": [
    "# random.rand(m, n) : 0~1 사이의 난수로 초기화\n",
    "np.random.rand(2,3)"
   ]
  },
  {
   "cell_type": "code",
   "execution_count": 34,
   "id": "871ffc83",
   "metadata": {},
   "outputs": [
    {
     "data": {
      "text/plain": [
       "array([[[-0.02797525,  0.5709046 , -0.21016536, -0.2579006 ,\n",
       "          0.98385487],\n",
       "        [ 1.13338161,  1.7008299 , -0.59643458, -0.85694579,\n",
       "          0.59818859],\n",
       "        [ 0.57355449,  0.67359869,  0.44156182, -0.13407567,\n",
       "          0.72868977],\n",
       "        [ 0.55328366, -1.16036112,  0.66696978,  1.7586832 ,\n",
       "         -1.08977647]],\n",
       "\n",
       "       [[ 0.79200895, -0.81686656, -0.3461521 ,  0.95704285,\n",
       "         -1.06802753],\n",
       "        [ 0.62743775, -0.35753074, -0.25784696, -2.1491502 ,\n",
       "          0.53881713],\n",
       "        [ 1.14231143, -0.23433403, -2.02672418, -0.7028038 ,\n",
       "          0.85172794],\n",
       "        [ 0.57985649,  0.41331222,  2.2285025 ,  0.74004643,\n",
       "          1.52502074]]])"
      ]
     },
     "execution_count": 34,
     "metadata": {},
     "output_type": "execute_result"
    }
   ],
   "source": [
    "# random.randn(m, n) : 표준정규분포를 따르는 난수로 초기화\n",
    "# 표준정규분포 : 평균 0, 분산 1인 정규분포\n",
    "np.random.randn(4,5)\n",
    "np.random.randn(2,4,5)"
   ]
  },
  {
   "cell_type": "code",
   "execution_count": 36,
   "id": "62b63c5c",
   "metadata": {},
   "outputs": [
    {
     "name": "stdout",
     "output_type": "stream",
     "text": [
      "[[ 32  52  89]\n",
      " [ 89  58  52]\n",
      " [ 86  39 100]]\n"
     ]
    }
   ],
   "source": [
    "# random.randint(low, high, (size)) \n",
    "np.random.randint(0, 101, (3, 3)) \n",
    "print(np.random.randint(0, 101, (3, 3)) )"
   ]
  },
  {
   "cell_type": "code",
   "execution_count": null,
   "id": "b8cca6bd",
   "metadata": {},
   "outputs": [
    {
     "name": "stdout",
     "output_type": "stream",
     "text": [
      "[[0.37454012 0.95071431 0.73199394]\n",
      " [0.59865848 0.15601864 0.15599452]]\n",
      "[[ 1.57921282  0.76743473 -0.46947439  0.54256004 -0.46341769]\n",
      " [-0.46572975  0.24196227 -1.91328024 -1.72491783 -0.56228753]\n",
      " [-1.01283112  0.31424733 -0.90802408 -1.4123037   1.46564877]\n",
      " [-0.2257763   0.0675282  -1.42474819 -0.54438272  0.11092259]]\n",
      "[[50  6 20]\n",
      " [72 38 17]\n",
      " [ 3 88 59]]\n"
     ]
    }
   ],
   "source": [
    "# random.seed() : 난수 생성시 시작값 제공\n",
    "print(np.random.rand(2,3))\n",
    "print(np.random.randn(4,5))\n",
    "print(np.random.randint(0, 101, (3, 3)) )"
   ]
  },
  {
   "cell_type": "code",
   "execution_count": null,
   "id": "031c8d48",
   "metadata": {},
   "outputs": [
    {
     "name": "stdout",
     "output_type": "stream",
     "text": [
      "[[0.77395605 0.43887844]\n",
      " [0.85859792 0.69736803]\n",
      " [0.09417735 0.97562235]]\n",
      "[[ 0.1278404  -0.31624259 -0.01680116 -0.85304393  0.87939797]\n",
      " [ 0.77779194  0.0660307   1.12724121  0.46750934 -0.85929246]\n",
      " [ 0.36875078 -0.9588826   0.8784503  -0.04992591 -0.18486236]\n",
      " [-0.68092954  1.22254134 -0.15452948 -0.42832782 -0.35213355]]\n",
      "[[77 95]\n",
      " [26 20]]\n",
      "[[71.51223783 63.47009665 37.93075522 17.64960737]\n",
      " [95.63245423 36.48132133 74.94464694 64.39863546]\n",
      " [95.92896695 20.45720625 26.40954399 47.24500575]\n",
      " [63.58538688 74.00521374 17.99512762 15.91718159]]\n"
     ]
    }
   ],
   "source": [
    "# RNG(Random Number Generator)\n",
    "# 최근 NumPy 사용에서 권장되는 방식\n",
    "# 독립적으로 seed를 사용할 수 있음에 장점. (일부는 고정, 일부는 랜덤 생성 가능)\n",
    "\n",
    "from numpy.random import default_rng\n",
    "rng = default_rng(seed=42)\n",
    "rng2 = default_rng(seed=10)\n",
    "rng3 = default_rng()\n",
    "\n",
    "print(rng.random((3,2)))    # 0~1 사이의 난수\n",
    "print(rng.normal(0, 1, (4,5)))  # 정규분포\n",
    "print(rng2.integers(0, 100, (2,2)))  # 정수 난수\n",
    "print(rng3.uniform(0, 100, (4,4)))   # 균등분포\n"
   ]
  },
  {
   "cell_type": "code",
   "execution_count": null,
   "id": "b285d7a5",
   "metadata": {},
   "outputs": [
    {
     "data": {
      "text/plain": [
       "array([[[9, 7, 1, 8],\n",
       "        [0, 7, 3, 3],\n",
       "        [4, 7, 4, 7]],\n",
       "\n",
       "       [[9, 0, 9, 8],\n",
       "        [5, 2, 7, 8],\n",
       "        [5, 6, 0, 4]]], dtype=int32)"
      ]
     },
     "execution_count": 66,
     "metadata": {},
     "output_type": "execute_result"
    }
   ],
   "source": [
    "# 실습. 배열 초기화 및 생성\n",
    "\n",
    "# 1. 0으로 채워진 크기 (3, 4) 배열을 생성한 후, 모든 값을 5로 채우는 새로운 배열을 만드세요.\n",
    "np.zeros((3,4)) + np.full((3,4), 5)\n",
    "\n",
    "# 2. 0부터 20까지 2씩 증가하는 1차원 배열을 생성하세요.\n",
    "np.arange(0,21,2)\n",
    "\n",
    "# 3. 0~1 사이의 실수 난수를 가지는 (2, 3) 크기의 배열을 생성하세요.\n",
    "np.random.rand(2,3)\n",
    "\n",
    "# 4. 평균이 100, 표준편차가 20인 정규분포 난수 6개를 생성하세요.\n",
    "rng.normal(100, 20, 6)\n",
    "\n",
    "# 5. 1부터 20까지의 정수를 포함하는 1차원 배열을 만들고, 이 배열을 (4, 5) 크기의 2차원 배열로 변환하세요.\n",
    "np.arange(1,21)\n",
    "np.arange(1,21).reshape((4,5))\n",
    "\n",
    "# 6. 0부터 1까지 균등 간격으로 나눈 12개의 값을 가지는 배열을 생성하고, 이를 (3, 4) 크기로 변환하세요. \n",
    "np.linspace(0.1, 1, 12)\n",
    "np.linspace(0.1, 1, 12).reshape((3,4))\n",
    "\n",
    "# 7. 0~99 사이의 난수로 이루어진 (10, 10) 배열을 생성한 뒤, \n",
    "#   np.eye()로 만든 단위 행렬을 더하여 대각선 요소가 1씩 증가된 배열을 만드세요.\n",
    "np.random.randint(0, 100, (10, 10)) \n",
    "np.random.randint(0, 100, (10, 10)) + np.eye(10,10)\n",
    "\n",
    "# 8.  0~9 사이의 난수로 이루어진 (2, 3, 4) 3차원 배열을 생성하세요\n",
    "np.random.randint(0, 10, (2,3,4)) "
   ]
  }
 ],
 "metadata": {
  "kernelspec": {
   "display_name": "data_analysis",
   "language": "python",
   "name": "python3"
  },
  "language_info": {
   "codemirror_mode": {
    "name": "ipython",
    "version": 3
   },
   "file_extension": ".py",
   "mimetype": "text/x-python",
   "name": "python",
   "nbconvert_exporter": "python",
   "pygments_lexer": "ipython3",
   "version": "3.13.5"
  }
 },
 "nbformat": 4,
 "nbformat_minor": 5
}
