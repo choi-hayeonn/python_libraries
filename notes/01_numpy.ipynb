{
 "cells": [
  {
   "cell_type": "markdown",
   "id": "8db1adf1",
   "metadata": {},
   "source": [
    "### 01. Numpy\n",
    "- 다차원 배열을 쉽고 효율적으로 사용할 수 있도록 지원하는 파이썬 라이브러리\n",
    "- 데이터 분석 라이브러리의 근본!!  "
   ]
  },
  {
   "cell_type": "markdown",
   "id": "50075b85",
   "metadata": {},
   "source": [
    "### 1-1. ndarray\n",
    "- NymPy의 핵심 데이터 구조\n",
    "- 동일한 자료형의 다차원 배열"
   ]
  },
  {
   "cell_type": "code",
   "execution_count": 23,
   "id": "5b6d3283",
   "metadata": {},
   "outputs": [],
   "source": [
    "import numpy as np"
   ]
  },
  {
   "cell_type": "code",
   "execution_count": 19,
   "id": "e59d30e9",
   "metadata": {},
   "outputs": [
    {
     "name": "stdout",
     "output_type": "stream",
     "text": [
      "배열의 구조: (2, 3)\n",
      "배열의 차원: 2\n",
      "배열 a의 데이터 타입: int64\n",
      "배열 b의 데이터 타입: float64\n",
      "배열 new_a의 데이터 타입: float64\n"
     ]
    }
   ],
   "source": [
    "# ndarray의 생성\n",
    "a = np.array([[1,2,3],[4,5,6]])\n",
    "b = np.array([1.0, 3.14, 1.24])\n",
    "\n",
    "# 배열의 구조\n",
    "print(f\"배열의 구조: {a.shape}\")\n",
    "\n",
    "# 배열의 차원 수 \n",
    "print(f\"배열의 차원: {a.ndim}\")\n",
    "\n",
    "# 데이터 타입\n",
    "print(f\"배열 a의 데이터 타입: {a.dtype}\")\n",
    "print(f\"배열 b의 데이터 타입: {b.dtype}\")\n",
    "\n",
    "# 형변환\n",
    "new_a = a.astype(np.float64)\n",
    "print(f\"배열 new_a의 데이터 타입: {new_a.dtype}\")"
   ]
  },
  {
   "cell_type": "code",
   "execution_count": 14,
   "id": "19711b72",
   "metadata": {},
   "outputs": [
    {
     "name": "stdout",
     "output_type": "stream",
     "text": [
      "배열의 구조: (3, 2, 3)\n",
      "배열의 차원: 3\n"
     ]
    }
   ],
   "source": [
    "# 3차원 행렬\n",
    "a = np.array([[[1,2,3],[4,5,6]], \n",
    "                [[1,2,3],[4,5,6]],\n",
    "                [[1,2,3],[4,5,6]]])\n",
    "print(f\"배열의 구조: {a.shape}\")\n",
    "print(f\"배열의 차원: {a.ndim}\")"
   ]
  },
  {
   "cell_type": "code",
   "execution_count": 16,
   "id": "f77e02f3",
   "metadata": {},
   "outputs": [
    {
     "name": "stdout",
     "output_type": "stream",
     "text": [
      "배열의 구조: (1, 6, 2, 3)\n",
      "배열의 차원: 4\n"
     ]
    }
   ],
   "source": [
    "# 4차원 행렬\n",
    "a = np.array([[[[1,2,3],[4,5,6]], \n",
    "                [[1,2,3],[4,5,6]], \n",
    "                [[1,2,3],[4,5,6]],    \n",
    "                [[1,2,3],[4,5,6]], \n",
    "                [[1,2,3],[4,5,6]], \n",
    "                [[1,2,3],[4,5,6]]]])\n",
    "print(f\"배열의 구조: {a.shape}\")\n",
    "print(f\"배열의 차원: {a.ndim}\")"
   ]
  },
  {
   "cell_type": "code",
   "execution_count": 18,
   "id": "bd3228db",
   "metadata": {},
   "outputs": [
    {
     "ename": "ValueError",
     "evalue": "setting an array element with a sequence. The requested array has an inhomogeneous shape after 1 dimensions. The detected shape was (2,) + inhomogeneous part.",
     "output_type": "error",
     "traceback": [
      "\u001b[31m---------------------------------------------------------------------------\u001b[39m",
      "\u001b[31mValueError\u001b[39m                                Traceback (most recent call last)",
      "\u001b[36mCell\u001b[39m\u001b[36m \u001b[39m\u001b[32mIn[18]\u001b[39m\u001b[32m, line 3\u001b[39m\n\u001b[32m      1\u001b[39m \u001b[38;5;66;03m# 만들 수 없는 행렬\u001b[39;00m\n\u001b[32m      2\u001b[39m \u001b[38;5;66;03m# 내부 배열의 구조가 같아야 함.\u001b[39;00m\n\u001b[32m----> \u001b[39m\u001b[32m3\u001b[39m a = \u001b[43mnp\u001b[49m\u001b[43m.\u001b[49m\u001b[43marray\u001b[49m\u001b[43m(\u001b[49m\u001b[43m[\u001b[49m\u001b[32;43m1\u001b[39;49m\u001b[43m,\u001b[49m\u001b[43m \u001b[49m\u001b[43m[\u001b[49m\u001b[32;43m2\u001b[39;49m\u001b[43m,\u001b[49m\u001b[32;43m3\u001b[39;49m\u001b[43m]\u001b[49m\u001b[43m]\u001b[49m\u001b[43m)\u001b[49m\n",
      "\u001b[31mValueError\u001b[39m: setting an array element with a sequence. The requested array has an inhomogeneous shape after 1 dimensions. The detected shape was (2,) + inhomogeneous part."
     ]
    }
   ],
   "source": [
    "# 만들 수 없는 행렬\n",
    "# 내부 배열의 구조가 같아야 함.\n",
    "a = np.array([1, [2,3]])"
   ]
  },
  {
   "cell_type": "markdown",
   "id": "b0590b59",
   "metadata": {},
   "source": [
    "### 1-2. 배열 초기화"
   ]
  },
  {
   "cell_type": "code",
   "execution_count": null,
   "id": "871e189c",
   "metadata": {},
   "outputs": [
    {
     "data": {
      "text/plain": [
       "array([[[0, 0, 0, 0],\n",
       "        [0, 0, 0, 0],\n",
       "        [0, 0, 0, 0]],\n",
       "\n",
       "       [[0, 0, 0, 0],\n",
       "        [0, 0, 0, 0],\n",
       "        [0, 0, 0, 0]]])"
      ]
     },
     "execution_count": 10,
     "metadata": {},
     "output_type": "execute_result"
    }
   ],
   "source": [
    "# 모든 요소가 0인 배열\n",
    "np.zeros((3,4))    # 2차원\n",
    "np.zeros((2,3,4), dtype=np.int64)   # 3차원"
   ]
  },
  {
   "cell_type": "code",
   "execution_count": 11,
   "id": "95ed117e",
   "metadata": {},
   "outputs": [
    {
     "data": {
      "text/plain": [
       "array([[1., 1., 1., 1., 1., 1.],\n",
       "       [1., 1., 1., 1., 1., 1.],\n",
       "       [1., 1., 1., 1., 1., 1.],\n",
       "       [1., 1., 1., 1., 1., 1.],\n",
       "       [1., 1., 1., 1., 1., 1.]])"
      ]
     },
     "execution_count": 11,
     "metadata": {},
     "output_type": "execute_result"
    }
   ],
   "source": [
    "# 모든 요소가 1인 배열\n",
    "np.ones((5,6))     # 2차원"
   ]
  },
  {
   "cell_type": "code",
   "execution_count": 12,
   "id": "cce5df3b",
   "metadata": {},
   "outputs": [
    {
     "data": {
      "text/plain": [
       "array([[1.04914920e-153, 6.26089492e-143, 3.68977620e+180],\n",
       "       [4.30512406e-096, 1.50598685e+161, 1.04917752e-153]])"
      ]
     },
     "execution_count": 12,
     "metadata": {},
     "output_type": "execute_result"
    }
   ],
   "source": [
    "# (원소의 값이) 초기화 되지 않은 배열 생성\n",
    "np.empty((2,3))"
   ]
  },
  {
   "cell_type": "code",
   "execution_count": 17,
   "id": "e7d1c172",
   "metadata": {},
   "outputs": [
    {
     "data": {
      "text/plain": [
       "array([[7, 7, 7],\n",
       "       [7, 7, 7],\n",
       "       [7, 7, 7]])"
      ]
     },
     "execution_count": 17,
     "metadata": {},
     "output_type": "execute_result"
    }
   ],
   "source": [
    "# 주어진 값으로 채운 배열\n",
    "np.full((3,3), 7)"
   ]
  },
  {
   "cell_type": "code",
   "execution_count": null,
   "id": "62861783",
   "metadata": {},
   "outputs": [
    {
     "data": {
      "text/plain": [
       "array([[0., 1., 0., 0., 0.],\n",
       "       [0., 0., 1., 0., 0.],\n",
       "       [0., 0., 0., 1., 0.]])"
      ]
     },
     "execution_count": 22,
     "metadata": {},
     "output_type": "execute_result"
    }
   ],
   "source": [
    "# 단위 행렬\n",
    "np.eye(3,3)\n",
    "np.eye(3,5)\n",
    "np.eye(3,5,1)   # 3번째 인자를 입력 → 1이 오른쪽으로 이동"
   ]
  },
  {
   "cell_type": "code",
   "execution_count": null,
   "id": "986998d4",
   "metadata": {},
   "outputs": [],
   "source": [
    "### 1-3. 범위 기반 배열 생성"
   ]
  },
  {
   "cell_type": "code",
   "execution_count": null,
   "id": "c7dd5493",
   "metadata": {},
   "outputs": [
    {
     "data": {
      "text/plain": [
       "array([0, 2, 4, 6, 8])"
      ]
     },
     "execution_count": 24,
     "metadata": {},
     "output_type": "execute_result"
    }
   ],
   "source": [
    "# arange : range()와 유사한 기능을 제공\n",
    "# 시작 이상, 끝 미만의 정수 배열을 지정한 간격으로 생성\n",
    "np.arange(0,10)\n",
    "np.arange(0,10,2)   # 간격 지정"
   ]
  },
  {
   "cell_type": "code",
   "execution_count": 29,
   "id": "4f622d8b",
   "metadata": {},
   "outputs": [
    {
     "data": {
      "text/plain": [
       "array([0.1, 0.2, 0.3, 0.4, 0.5, 0.6, 0.7, 0.8, 0.9, 1. ])"
      ]
     },
     "execution_count": 29,
     "metadata": {},
     "output_type": "execute_result"
    }
   ],
   "source": [
    "# linspace : 시작~끝까지 균일 간격으로 지정한 개수만큼 숫자를 생성\n",
    "# 끝을 포함\n",
    "np.linspace(10, 100, 10)\n",
    "np.linspace(0.1, 1, 10)"
   ]
  },
  {
   "cell_type": "code",
   "execution_count": 31,
   "id": "ecbb3af0",
   "metadata": {},
   "outputs": [
    {
     "data": {
      "text/plain": [
       "array([[  5.,  10.,  15.,  20.,  25.],\n",
       "       [ 30.,  35.,  40.,  45.,  50.],\n",
       "       [ 55.,  60.,  65.,  70.,  75.],\n",
       "       [ 80.,  85.,  90.,  95., 100.]])"
      ]
     },
     "execution_count": 31,
     "metadata": {},
     "output_type": "execute_result"
    }
   ],
   "source": [
    "# reshape : 배열의 구조를 재배치\n",
    "np.linspace(1, 10, 6).reshape((2,3))\n",
    "# np.linspace(1, 10, 10).reshape((2,3))   # 원소의 개수가 같아야 함\n",
    "np.linspace(5, 100, 20).reshape((4,5))"
   ]
  },
  {
   "cell_type": "markdown",
   "id": "8a8d0851",
   "metadata": {},
   "source": [
    "### 1-4. 랜덤 배열 생성"
   ]
  },
  {
   "cell_type": "code",
   "execution_count": 32,
   "id": "b587d117",
   "metadata": {},
   "outputs": [
    {
     "data": {
      "text/plain": [
       "array([[0.7131586 , 0.50415358, 0.89527452],\n",
       "       [0.75240986, 0.84711718, 0.03590392]])"
      ]
     },
     "execution_count": 32,
     "metadata": {},
     "output_type": "execute_result"
    }
   ],
   "source": [
    "# random.rand(m, n) : 0~1 사이의 난수로 초기화\n",
    "np.random.rand(2,3)"
   ]
  },
  {
   "cell_type": "code",
   "execution_count": 4,
   "id": "871ffc83",
   "metadata": {},
   "outputs": [
    {
     "data": {
      "text/plain": [
       "array([[ -9.79312615,   0.66737321,   0.19614088, -37.62448743],\n",
       "       [  4.95891247,  48.09830558,   1.70518987,   3.79563868]])"
      ]
     },
     "execution_count": 4,
     "metadata": {},
     "output_type": "execute_result"
    }
   ],
   "source": [
    "# random.randn(m, n) : 표준정규분포를 따르는 난수로 초기화\n",
    "# 표준정규분포 : 평균 0, 분산 1인 정규분포\n",
    "np.random.randn(4,5)\n",
    "np.random.randn(2,4,5)\n",
    "\n",
    "# random.normal(평균, 분산, 사이즈)\n",
    "# 정규분포\n",
    "np.random.normal(10, 20, (2,4))"
   ]
  },
  {
   "cell_type": "code",
   "execution_count": 36,
   "id": "62b63c5c",
   "metadata": {},
   "outputs": [
    {
     "name": "stdout",
     "output_type": "stream",
     "text": [
      "[[ 32  52  89]\n",
      " [ 89  58  52]\n",
      " [ 86  39 100]]\n"
     ]
    }
   ],
   "source": [
    "# random.randint(low, high, (size)) \n",
    "np.random.randint(0, 101, (3, 3)) \n",
    "print(np.random.randint(0, 101, (3, 3)) )"
   ]
  },
  {
   "cell_type": "code",
   "execution_count": null,
   "id": "b8cca6bd",
   "metadata": {},
   "outputs": [
    {
     "name": "stdout",
     "output_type": "stream",
     "text": [
      "[[0.37454012 0.95071431 0.73199394]\n",
      " [0.59865848 0.15601864 0.15599452]]\n",
      "[[ 1.57921282  0.76743473 -0.46947439  0.54256004 -0.46341769]\n",
      " [-0.46572975  0.24196227 -1.91328024 -1.72491783 -0.56228753]\n",
      " [-1.01283112  0.31424733 -0.90802408 -1.4123037   1.46564877]\n",
      " [-0.2257763   0.0675282  -1.42474819 -0.54438272  0.11092259]]\n",
      "[[50  6 20]\n",
      " [72 38 17]\n",
      " [ 3 88 59]]\n"
     ]
    }
   ],
   "source": [
    "# random.seed() : 난수 생성시 시작값 제공\n",
    "print(np.random.rand(2,3))\n",
    "print(np.random.randn(4,5))\n",
    "print(np.random.randint(0, 101, (3, 3)) )"
   ]
  },
  {
   "cell_type": "code",
   "execution_count": 6,
   "id": "031c8d48",
   "metadata": {},
   "outputs": [
    {
     "name": "stdout",
     "output_type": "stream",
     "text": [
      "[[0.77395605 0.43887844]\n",
      " [0.85859792 0.69736803]\n",
      " [0.09417735 0.97562235]]\n",
      "[[ 0.1278404  -0.31624259 -0.01680116 -0.85304393  0.87939797]\n",
      " [ 0.77779194  0.0660307   1.12724121  0.46750934 -0.85929246]\n",
      " [ 0.36875078 -0.9588826   0.8784503  -0.04992591 -0.18486236]\n",
      " [-0.68092954  1.22254134 -0.15452948 -0.42832782 -0.35213355]]\n",
      "[[77 95]\n",
      " [26 20]]\n",
      "[[38.63718559 81.49467354 70.07772407 39.68349915]\n",
      " [38.32018041 88.56222902 48.43824984 15.6846208 ]\n",
      " [20.91407983 53.44722185 47.64380548  5.40199826]\n",
      " [50.23953617 75.05727835 82.65224352 23.94102986]]\n"
     ]
    }
   ],
   "source": [
    "# RNG(Random Number Generator)\n",
    "# 최근 NumPy 사용에서 권장되는 방식\n",
    "# 독립적으로 seed를 사용할 수 있음에 장점. (일부는 고정, 일부는 랜덤 생성 가능)\n",
    "\n",
    "from numpy.random import default_rng\n",
    "rng = default_rng(seed=42)\n",
    "rng2 = default_rng(seed=10)\n",
    "rng3 = default_rng()\n",
    "\n",
    "print(rng.random((3,2)))    # 0~1 사이의 난수\n",
    "print(rng.normal(0, 1, (4,5)))  # 정규분포\n",
    "print(rng2.integers(0, 100, (2,2)))  # 정수 난수\n",
    "print(rng3.uniform(0, 100, (4,4)))   # 균등분포\n"
   ]
  },
  {
   "cell_type": "code",
   "execution_count": 8,
   "id": "b285d7a5",
   "metadata": {},
   "outputs": [
    {
     "name": "stdout",
     "output_type": "stream",
     "text": [
      "문제1:\n",
      "[[0. 0. 0. 0.]\n",
      " [0. 0. 0. 0.]\n",
      " [0. 0. 0. 0.]]\n",
      "[[5 5 5 5]\n",
      " [5 5 5 5]\n",
      " [5 5 5 5]]\n",
      "\n",
      " 문제2: [ 0  2  4  6  8 10 12 14 16 18 20]\n",
      "\n",
      " 문제3: [[0.70904629 0.05264375 0.76407221]\n",
      " [0.14601656 0.19406248 0.49299971]]\n",
      "\n",
      " 문제4: [ 89.75514542  83.72454544 112.31958845 122.57944585  97.72105085\n",
      "  83.19687046]\n",
      "\n",
      " 문제5: [[ 1  2  3  4  5]\n",
      " [ 6  7  8  9 10]\n",
      " [11 12 13 14 15]\n",
      " [16 17 18 19 20]]\n",
      "\n",
      " 문제6: [[0.         0.09090909 0.18181818 0.27272727]\n",
      " [0.36363636 0.45454545 0.54545455 0.63636364]\n",
      " [0.72727273 0.81818182 0.90909091 1.        ]]\n",
      "\n",
      " 문제7: [[64. 29. 52. 65. 42. 79. 33. 28. 70. 89.]\n",
      " [23. 21. 94. 23. 45. 72. 82. 34. 83.  1.]\n",
      " [99. 17. 94. 84.  7. 36. 42. 92. 11. 27.]\n",
      " [35. 77. 23. 19. 96. 57. 42. 60. 23. 39.]\n",
      " [17. 20.  4. 33. 92. 67.  1. 81. 50. 43.]\n",
      " [21. 66. 36. 12. 95. 34. 39. 69. 11. 34.]\n",
      " [42. 55.  5.  1. 83.  2. 64. 26. 84. 72.]\n",
      " [86. 16. 56. 45. 46. 62. 27.  9. 18. 72.]\n",
      " [90.  8. 21. 54. 98. 19. 38. 39. 35. 76.]\n",
      " [ 9. 67. 74. 56. 69. 63. 83. 61. 18. 38.]]\n",
      "\n",
      " 문제8: [[[6 7 7 2]\n",
      "  [9 4 2 1]\n",
      "  [0 8 9 2]]\n",
      "\n",
      " [[1 9 0 6]\n",
      "  [1 7 7 7]\n",
      "  [1 6 1 1]]]\n"
     ]
    }
   ],
   "source": [
    "# 실습. 배열 초기화 및 생성\n",
    "\n",
    "# 1. 0으로 채워진 크기 (3, 4) 배열을 생성한 후, 모든 값을 5로 채우는 새로운 배열을 만드세요.\n",
    "a1 = np.zeros((3,4)) \n",
    "a1_2 = np.full((3,4), 5)\n",
    "print(\"문제1:\", a1, a1_2, sep=\"\\n\")\n",
    "\n",
    "# 2. 0부터 20까지 2씩 증가하는 1차원 배열을 생성하세요.\n",
    "a2 = np.arange(0,21,2)\n",
    "print(\"\\n 문제2:\", a2)\n",
    "\n",
    "# 3. 0~1 사이의 실수 난수를 가지는 (2, 3) 크기의 배열을 생성하세요.\n",
    "a3 = np.random.rand(2,3)\n",
    "print(\"\\n 문제3:\", a3)\n",
    "\n",
    "# 4. 평균이 100, 표준편차가 20인 정규분포 난수 6개를 생성하세요.\n",
    "a4 = rng.normal(100, 20, 6)\n",
    "print(\"\\n 문제4:\", a4)\n",
    "\n",
    "# 5. 1부터 20까지의 정수를 포함하는 1차원 배열을 만들고, 이 배열을 (4, 5) 크기의 2차원 배열로 변환하세요.\n",
    "a5 = np.arange(1,21).reshape((4,5))\n",
    "print(\"\\n 문제5:\", a5)\n",
    "\n",
    "# 6. 0부터 1까지 균등 간격으로 나눈 12개의 값을 가지는 배열을 생성하고, 이를 (3, 4) 크기로 변환하세요. \n",
    "a6 = np.linspace(0, 1, 12).reshape((3,4))\n",
    "print(\"\\n 문제6:\", a6)\n",
    "\n",
    "# 7. 0~99 사이의 정수 난수로 이루어진 (10, 10) 배열을 생성한 뒤, \n",
    "#   np.eye()로 만든 단위 행렬을 더하여 대각선 요소가 1씩 증가된 배열을 만드세요.\n",
    "a7 = np.random.randint(0, 100, (10, 10)) \n",
    "a7_eye = np.eye(10,10)\n",
    "a7_added = a7 + a7_eye\n",
    "print(\"\\n 문제7:\", a7_added)\n",
    "\n",
    "# 8.  0~9 사이의 정수 난수로 이루어진 (2, 3, 4) 3차원 배열을 생성하세요\n",
    "a8 = np.random.randint(0, 10, (2,3,4)) \n",
    "print(\"\\n 문제8:\", a8)"
   ]
  },
  {
   "cell_type": "markdown",
   "id": "c35733df",
   "metadata": {},
   "source": [
    "### 1-5. 인덱싱과 슬라이싱 \n",
    "- 다차원 배열을 다루는 편의 기능 제공\n",
    "- Python의 시퀀스보다 빠름"
   ]
  },
  {
   "cell_type": "code",
   "execution_count": 10,
   "id": "6b7219a7",
   "metadata": {},
   "outputs": [
    {
     "name": "stdout",
     "output_type": "stream",
     "text": [
      "30\n",
      "50\n"
     ]
    }
   ],
   "source": [
    "# 인덱싱\n",
    "a = np.array([10,20,30,40,50])\n",
    "print(a[2])\n",
    "print(a[-1])"
   ]
  },
  {
   "cell_type": "code",
   "execution_count": 15,
   "id": "224d9841",
   "metadata": {},
   "outputs": [
    {
     "name": "stdout",
     "output_type": "stream",
     "text": [
      "파이썬 인덱싱: 5\n",
      "numpy 인덱싱: 6\n"
     ]
    }
   ],
   "source": [
    "# 다차원 인덱싱\n",
    "\n",
    "# 파이썬 리스트\n",
    "matrix = [[1,2,4],[4,5,6]]\n",
    "print(\"파이썬 인덱싱:\", matrix[1][1])\n",
    "\n",
    "# NumPy 배열\n",
    "a2 = np.array( [[1,2,4],[4,5,6]])\n",
    "print(\"numpy 인덱싱:\", a2[1,2])"
   ]
  },
  {
   "cell_type": "code",
   "execution_count": 13,
   "id": "e3357d7e",
   "metadata": {},
   "outputs": [
    {
     "name": "stdout",
     "output_type": "stream",
     "text": [
      "[[[ 0  1  2  3]\n",
      "  [ 4  5  6  7]\n",
      "  [ 8  9 10 11]]\n",
      "\n",
      " [[12 13 14 15]\n",
      "  [16 17 18 19]\n",
      "  [20 21 22 23]]]\n",
      "17찾기: 17\n",
      "11찾기: 11\n",
      "23찾기: 23\n"
     ]
    }
   ],
   "source": [
    "# 3차원 배열 인덱싱\n",
    "a3 = np.arange(24).reshape(2,3,4)\n",
    "print(a3)\n",
    "print(\"17찾기:\", a3[1,1,1])\n",
    "print(\"11찾기:\", a3[0,2,3])\n",
    "print(\"23찾기:\", a3[1,2,3])"
   ]
  },
  {
   "cell_type": "code",
   "execution_count": null,
   "id": "53ce0b8b",
   "metadata": {},
   "outputs": [
    {
     "name": "stdout",
     "output_type": "stream",
     "text": [
      "[20 30]\n",
      "[30 40 50]\n",
      "[10 20 30]\n",
      "[10 30 50]\n"
     ]
    }
   ],
   "source": [
    "# 슬라이싱\n",
    "# arr[행_슬라이스, 열_슬라이스]\n",
    "# arr[..., 4차원슬라이스, 3차원슬라이스, 2차원슬라이스, 1차원슬라이스]\n",
    "a1 = np.array([10,20,30,40,50])\n",
    "print(a1[1:3])\n",
    "print(a1[2:])\n",
    "print(a1[:3])\n",
    "print(a1[::2])\n",
    "print(a1[::-1])"
   ]
  },
  {
   "cell_type": "code",
   "execution_count": null,
   "id": "80575478",
   "metadata": {},
   "outputs": [
    {
     "name": "stdout",
     "output_type": "stream",
     "text": [
      "python 원본: [10, 20, 30, 40, 50]\n",
      "python 슬라이싱: [20, 100, 40]\n",
      "\n",
      "numpy 원본: [ 10  20 100  40  50]\n",
      "numoy 슬라이싱: [ 20 100  40]\n"
     ]
    }
   ],
   "source": [
    "# 파이썬 리스트와의 차이\n",
    "\n",
    "# 파이썬 리스트\n",
    "py_list = [10,20,30,40,50]\n",
    "sliced = py_list[1:4]\n",
    "sliced[1] = 100\n",
    "print(\"python 원본:\", py_list)\n",
    "print(\"python 슬라이싱:\", sliced)\n",
    "print()\n",
    "\n",
    "# NumPy 배열\n",
    "a1 = np.array([10,20,30,40,50])\n",
    "a1_sliced = a1[1:4]\n",
    "a1_sliced[1] = 100\n",
    "print(\"numpy 원본:\", a1)\n",
    "print(\"numoy 슬라이싱:\", a1_sliced)\n"
   ]
  },
  {
   "cell_type": "code",
   "execution_count": 32,
   "id": "e1026e8e",
   "metadata": {},
   "outputs": [
    {
     "name": "stdout",
     "output_type": "stream",
     "text": [
      "원본: [[ 1  2  3  4  5]\n",
      " [ 6  7  8  9 10]\n",
      " [11 12 13 14 15]\n",
      " [16 17 18 19 20]]\n",
      "\n",
      "[1 2 3 4 5]\n",
      "[1 2 3 4 5]\n",
      "[ 6  7  8  9 10]\n",
      "[[ 6  7  8  9 10]\n",
      " [11 12 13 14 15]]\n",
      "[[11 12 13 14 15]\n",
      " [16 17 18 19 20]]\n",
      "\n",
      "[ 3  8 13 18]\n",
      "[ 5 10 15 20]\n",
      "[[ 2  3]\n",
      " [ 7  8]\n",
      " [12 13]\n",
      " [17 18]]\n",
      "\n",
      "[[ 8  9]\n",
      " [13 14]]\n",
      "[[14 15]\n",
      " [19 20]]\n",
      "[[ 1  3  5]\n",
      " [11 13 15]]\n"
     ]
    }
   ],
   "source": [
    "# 2차원 배열 슬라이싱\n",
    "a2 = np.arange(1,21).reshape(4,5)\n",
    "print(\"원본:\", a2)\n",
    "print()\n",
    "\n",
    "# 행 슬라이싱(2차원 슬라이싱)\n",
    "print(a2[0, :])\n",
    "print(a2[0])\n",
    "print(a2[1])\n",
    "print(a2[1:3])\n",
    "print(a2[2:])\n",
    "print()\n",
    "\n",
    "# 열 슬라이싱(1차원 슬라이싱)\n",
    "print(a2[:, 2])\n",
    "print(a2[:, -1])\n",
    "print(a2[:, 1:3])\n",
    "print()\n",
    "\n",
    "# 행과 열 슬라이싱\n",
    "print(a2[1:3, 2:4])\n",
    "print(a2[2:, 3:])\n",
    "print(a2[::2, ::2])"
   ]
  },
  {
   "cell_type": "code",
   "execution_count": 35,
   "id": "7361e2f9",
   "metadata": {},
   "outputs": [
    {
     "name": "stdout",
     "output_type": "stream",
     "text": [
      "원본: [[[ 0  1  2  3]\n",
      "  [ 4  5  6  7]\n",
      "  [ 8  9 10 11]]\n",
      "\n",
      " [[12 13 14 15]\n",
      "  [16 17 18 19]\n",
      "  [20 21 22 23]]\n",
      "\n",
      " [[24 25 26 27]\n",
      "  [28 29 30 31]\n",
      "  [32 33 34 35]]]\n",
      "\n",
      "[17 18]\n"
     ]
    }
   ],
   "source": [
    "# 3차원 슬라이싱\n",
    "a3 = np.arange(36).reshape(3,3,4)\n",
    "print(\"원본:\", a3)\n",
    "print()\n",
    "print(a3[1,1,1:3])"
   ]
  },
  {
   "cell_type": "code",
   "execution_count": 40,
   "id": "0009d28e",
   "metadata": {},
   "outputs": [
    {
     "name": "stdout",
     "output_type": "stream",
     "text": [
      "원본 [ 1 10  3]\n",
      "복사본 [ 1 10  3]\n",
      "\n",
      "원본 [1 2 3]\n",
      "복사본 [ 1 10  3]\n"
     ]
    }
   ],
   "source": [
    "# 얕은 복사 : 복사본이 원본과 메모리를 공유 → 변경사항이 서로에게 영향을 줌\n",
    "a1 = np.array([1,2,3])\n",
    "a1_copied = a1.view()\n",
    "a1_copied[1] = 10\n",
    "print(\"원본\", a1)\n",
    "print(\"복사본\", a1_copied)\n",
    "print()\n",
    "\n",
    "# 깊은 복사: 복사본이 원본과 독립적으로 복사됨 → 서로 영향을 주지 x\n",
    "a2 = np.array([1,2,3])\n",
    "a2_copied = a2.copy()\n",
    "a2_copied[1] = 10\n",
    "print(\"원본\", a2)\n",
    "print(\"복사본\", a2_copied)"
   ]
  },
  {
   "cell_type": "code",
   "execution_count": 51,
   "id": "12dbba99",
   "metadata": {},
   "outputs": [
    {
     "name": "stdout",
     "output_type": "stream",
     "text": [
      "[ 1  2  3  4  5  6  7  8  9 10 11 12 13 14 15 16 17 18 19 20]\n",
      "[ 5  8 12]\n",
      "[[ 1  2  3  4  5]\n",
      " [ 6  7  8  9 10]\n",
      " [11 12 13 14 15]\n",
      " [16 17 18 19 20]]\n",
      "[ 8 20]\n"
     ]
    }
   ],
   "source": [
    "# Fancy Indexing\n",
    "# 정수 배열을 사용하여 여러 인덱스로 여러 요소를 한번에 선택\n",
    "af = np.arange(1,21)\n",
    "print(af)\n",
    "print(af[[4,7,11]])\n",
    "\n",
    "af2 = np.arange(1,21).reshape(4, 5)\n",
    "print(af2)\n",
    "print(af2[[1,3],[2,4]])\n"
   ]
  },
  {
   "cell_type": "code",
   "execution_count": 47,
   "id": "6269b158",
   "metadata": {},
   "outputs": [
    {
     "name": "stdout",
     "output_type": "stream",
     "text": [
      "[ 10.  20.  30.  40.  50.  60.  70.  80.  90. 100.]\n",
      "[ 50.  60.  70.  80.  90. 100.]\n",
      "\n",
      "[ 0  1  2  3  4  5  6  7  8  9 10 11 12 13 14 15 16 17 18 19 20]\n",
      "[ True False  True False  True False  True False  True False  True False\n",
      "  True False  True False  True False  True False  True]\n",
      "[ 0  2  4  6  8 10 12 14 16 18 20]\n"
     ]
    }
   ],
   "source": [
    "# Boolean Indexing\n",
    "ab = np.linspace(10,100,10)\n",
    "print(ab)\n",
    "print(ab[ab > 40])\n",
    "print()\n",
    "\n",
    "# Boolean masking\n",
    "ab2 = np.arange(0,21)\n",
    "print(ab2)\n",
    "mask = ab2 % 2 == 0\n",
    "print(mask)\n",
    "print(ab2[mask])"
   ]
  },
  {
   "cell_type": "code",
   "execution_count": null,
   "id": "a23b194c",
   "metadata": {},
   "outputs": [
    {
     "name": "stdout",
     "output_type": "stream",
     "text": [
      "✔ 문제1: [12 16 20]\n",
      "\n",
      "✔ 문제2: [1 5 9]\n",
      "\n",
      "✔ 문제3:\n",
      " [[ 1  2  3 -1]\n",
      " [ 5  6  7 -1]\n",
      " [ 9 10 11 -1]]\n",
      "\n",
      "✔ 문제4 - 행 역순:\n",
      " [[13 14 15 16]\n",
      " [ 9 10 11 12]\n",
      " [ 5  6  7  8]\n",
      " [ 1  2  3  4]]\n",
      "✔ 문제4 - 열 역순:\n",
      " [[ 4  3  2  1]\n",
      " [ 8  7  6  5]\n",
      " [12 11 10  9]\n",
      " [16 15 14 13]]\n",
      "\n",
      "✔ 문제5:\n",
      " [[ 7  8  9]\n",
      " [12 13 14]]\n",
      "\n",
      "✔ 문제6: [12 10 18 14 20]\n",
      "\n",
      "✔ 문제7-1:\n",
      " [[10  6  8]\n",
      " [20 16 18]]\n",
      "✔ 문제7-2:\n",
      " [[ 6  7  8  9 10]\n",
      " [16 17 18 19 20]]\n",
      "\n",
      "✔ 문제8:\n",
      " [[55 65 75]\n",
      " [70 80 90]]\n",
      "\n",
      "✔ 문제9: [ 2  8  9 15]\n",
      "\n",
      "✔ 문제10:\n",
      " [[ 1  5  9]\n",
      " [13 17 21]]\n"
     ]
    }
   ],
   "source": [
    "# 1. 다음 배열에서 2, 4, 6번째 요소를 Fancy Indexing으로 선택하세요.\n",
    "arr = np.arange(10, 30, 2)\n",
    "print(\"✔ 문제1:\", arr[[1,3,5]])\n",
    "print()\n",
    "# 2. 3x3 배열에서 왼쪽 위 → 오른쪽 아래 대각선의 요소만 인덱싱으로 추출하세요.\n",
    "arr = np.arange(1, 10).reshape(3, 3)\n",
    "print(\"✔ 문제2:\", arr[[0,1,2],[0,1,2]])\n",
    "print()\n",
    "# 3. 3x4 배열에서 마지막 열만 선택해 모두 -1로 변경하세요.\n",
    "arr = np.arange(1, 13).reshape(3, 4)\n",
    "arr[:,-1] = -1\n",
    "print(\"✔ 문제3:\\n\", arr)\n",
    "print()\n",
    "# 4. 4x4 배열에서 행을 역순, 열을 역순으로 각각 슬라이싱해 출력하세요.\n",
    "arr = np.arange(1, 17).reshape(4, 4)\n",
    "print(\"✔ 문제4 - 행 역순:\\n\", arr[::-1])\n",
    "print(\"✔ 문제4 - 열 역순:\\n\", arr[:,::-1])\n",
    "print()\n",
    "# 5. 4x5 배열에서 가운데 2x3 부분을 슬라이싱한 뒤 copy()를 이용해 독립 배열을 만드세요.\n",
    "arr = np.arange(1, 21).reshape(4, 5)\n",
    "arr_copied = arr.copy()\n",
    "print(\"✔ 문제5:\\n\", arr_copied[1:3,1:4])\n",
    "print()\n",
    "# 6. 3x4 배열에서 짝수이면서 10 이상인 값만 선택하세요\n",
    "arr = np.array([[ 4, 9, 12, 7], [10, 15, 18, 3], [ 2, 14, 6, 20]])\n",
    "mask_1 = arr % 2 == 0 \n",
    "mask_2 = arr >= 10\n",
    "print(\"✔ 문제6:\",arr[mask_1 & mask_2])\n",
    "# 다른 풀이: arr[(arr%2 ==0)&(arr>=10)]\n",
    "print()\n",
    "# 7. 방법 1. 5x5 배열에서 2, 4번째 행을 선택하고, 선택된 행에서 열 순서를 [4, 0, 2]로 재배치하세요.\n",
    "arr = np.arange(1, 26).reshape(5, 5)\n",
    "result = arr[[1,3]]\n",
    "answer = []\n",
    "for i in result:\n",
    "    answer.append([i[4],i[0],i[2]])\n",
    "print(\"✔ 문제7-1:\\n\",np.array(answer))\n",
    "# 7. 방법 2\n",
    "arr = np.arange(1, 26).reshape(5, 5)\n",
    "result = arr[[1,3]]\n",
    "result[:,[4,0,2]]\n",
    "print(\"✔ 문제7-2:\\n\",result)\n",
    "print()\n",
    "# 8. 5x3 배열에서 각 행의 첫 번째 값이 50 이상인 행만 Boolean Indexing으로 선택하세요.\n",
    "arr = np.array([[10, 20, 30], [55, 65, 75], [40, 45, 50], [70, 80, 90], [15, 25, 35]])\n",
    "print(\"✔ 문제8:\\n\", arr[arr[:,0] >= 50])\n",
    "print()\n",
    "# 9. 4x4 배열에서 (0,1), (1,3), (2,0), (3,2) 위치의 요소를 한 번에 선택하세요.\n",
    "arr = np.arange(1, 17).reshape(4, 4)\n",
    "print(\"✔ 문제9:\",arr[[0,1,2,3],[1,3,0,2]])\n",
    "print()\n",
    "# 10. 3차원 배열 (2, 3, 4)에서 모든 블록에서 두 번째 열만 추출해 새로운 2차원 배열 (2, 3)을 만드세요.\n",
    "arr3d = np.arange(24).reshape(2, 3, 4)\n",
    "print(\"✔ 문제10:\\n\", arr3d[:,:,1])"
   ]
  },
  {
   "cell_type": "code",
   "execution_count": null,
   "id": "67358e08",
   "metadata": {},
   "outputs": [
    {
     "name": "stdout",
     "output_type": "stream",
     "text": [
      "문제1.\n",
      "가운데 행: [10 11 12 13 14]\n",
      "가운데 열: [ 2  7 12 17 22]\n",
      "\n",
      "문제2.\n",
      "짝수 인덱스 행:\n",
      " [[74  9 61 21 39 43 88 50 66 45]\n",
      " [36 48 76 62 27 43 98 87 36  5]\n",
      " [81 41  1 72 58 13  0 93 77 11]\n",
      " [82 80 45 75 72 99 53 88  8  6]\n",
      " [51 67 96 57 19 96 37 53 37 86]]\n",
      "\n",
      "문제3.\n",
      "부분배열:\n",
      " [[12 13 14 15 16]\n",
      " [22 23 24 25 26]\n",
      " [32 33 34 35 36]]\n",
      "\n",
      "문제5.\n",
      "두 번째 층의 첫 행 마지막 열 값: 3\n",
      "\n",
      "문제6.\n",
      " [[35 36 37 38]\n",
      " [39 40 41 42]\n",
      " [43 44 45 46]\n",
      " [47 48 49 50]\n",
      " [51 52 53 54]\n",
      " [55 56 57 58]\n",
      " [59 60 61 62]\n",
      " [63 64 65 66]\n",
      " [67 68 69 70]\n",
      " [71 72 73 74]]\n",
      "\n",
      "문제7.\n",
      " [[71 72 73 74]\n",
      " [67 68 69 70]\n",
      " [63 64 65 66]\n",
      " [59 60 61 62]\n",
      " [55 56 57 58]\n",
      " [51 52 53 54]\n",
      " [47 48 49 50]\n",
      " [43 44 45 46]\n",
      " [39 40 41 42]\n",
      " [35 36 37 38]]\n",
      "\n"
     ]
    }
   ],
   "source": [
    "# 1. 0부터 24까지 정수를 가진 배열을 만들고, (5, 5) 배열로 변환한 뒤 가운데 행(3번째 행)과 가운데 열(3번째 열)을 각각 1차원 배열로 출력하세요\n",
    "arr = np.arange(0,25).reshape(5,5)\n",
    "print(\"문제1.\")\n",
    "print(\"가운데 행:\", arr[2])\n",
    "print(\"가운데 열:\",arr[:,2])\n",
    "print()\n",
    "# 2.  0~99 정수 난수로 이루어진 (10, 10) 배열을 생성하고, 짝수 인덱스의 행만 선택하여 출력하세요.\n",
    "arr = np.random.randint(0,100,(10,10))\n",
    "print(\"문제2.\\n짝수 인덱스 행:\\n\", arr[::2])\n",
    "print()\n",
    "# 3. 0부터 49까지 정수를 가진 배열을 (5, 10) 배열로 변환한 후, 2행 3열부터 4행 7열까지의 부분 배열을 추출하세요.\n",
    "arr = np.arange(0,50).reshape(5,10)\n",
    "print(\"문제3.\\n부분배열:\\n\",arr[1:4,2:7])\n",
    "print()\n",
    "# 4. 0~9 난수로 이루어진 (4, 4) 배열을 생성하고, 각각 인덱싱으로 추출해 출력하세요.(for 이용)\n",
    "a4 = np.random.randint(0,10,(4,4))\n",
    "print(\"문제4.\\n주대각선: \", a4[[0,1,2,3],[0,1,2,3]])\n",
    "print(\"부대각선: \", a4[[0,1,2,3],[3,2,1,0]])\n",
    "print()\n",
    "# 5. 0~9 난수로 이루어진 (3, 4, 5) 3차원 배열을 생성하고, 두 번째 층에서 첫 번째 행과 마지막열의 값을 출력하세요.\n",
    "arr = np.random.randint(0,10,(3,4,5))\n",
    "print(\"문제5.\\n두 번째 층의 첫 행 마지막 열 값:\", arr[1,0, -1])\n",
    "print()\n",
    "# 6. 35부터 74까지의 순차적인 수로 이루어진 1차원 배열을 만들고 10x4 행렬로 변환 후 출력해주세요.\n",
    "arr = np.arange(35,75)\n",
    "arr6 = arr.reshape(10,4)\n",
    "print(\"문제6.\\n\",arr6)\n",
    "print()\n",
    "# 7. 6번에서 만든 배열을 맨 끝의 행부터 역순으로 출력해주세요.\n",
    "print(\"문제7.\\n\",arr6[::-1])\n",
    "print()\n",
    "# 8. 6번에서 만든 배열 중 두 번째 행부터 마지막 직전 행까지, 세번째 열부터 마지막 열까지 슬라이싱해서 출력해주세요.\n",
    "\n",
    "# 9. 1부터 50까지의 난수로 된 5x6 배열을 만들고, 배열에서 짝수만 선택하여 출력하는 코드를 작성하세요.\n",
    "\n",
    "# 10. 0부터 99까지의 정수로 이루어진 (10, 10) 배열을 생성한 후, [1, 3, 5]번째 행과 [2, 4, 6]번째 열의 교차하는 원소들만 선택하여 출력하세요. \n",
    "\n",
    "# 11.  0~9 난수로 이루어진 1차원 배열(길이 15)을 생성하고, 짝수 인덱스 위치에 있는 값들 중에서 5 이상인 값만 선택해 출력하세요.\n"
   ]
  },
  {
   "cell_type": "code",
   "execution_count": 164,
   "id": "434adfc5",
   "metadata": {},
   "outputs": [
    {
     "name": "stdout",
     "output_type": "stream",
     "text": [
      "[[35 36 37 38]\n",
      " [39 40 41 42]\n",
      " [43 44 45 46]\n",
      " [47 48 49 50]\n",
      " [51 52 53 54]\n",
      " [55 56 57 58]\n",
      " [59 60 61 62]\n",
      " [63 64 65 66]\n",
      " [67 68 69 70]\n",
      " [71 72 73 74]]\n"
     ]
    }
   ],
   "source": [
    "arr = np.arange(35,75)\n",
    "arr6 = arr.reshape(10,4)\n",
    "print(arr6)"
   ]
  },
  {
   "cell_type": "code",
   "execution_count": null,
   "id": "6285dc8d",
   "metadata": {},
   "outputs": [
    {
     "name": "stdout",
     "output_type": "stream",
     "text": [
      "[[5 5 3 3]\n",
      " [8 8 9 2]\n",
      " [1 4 2 1]\n",
      " [1 4 4 4]]\n"
     ]
    }
   ],
   "source": [
    "# 문제 4.\n",
    "a4 = np.random.randint(0,10,(4,4))\n",
    "print(\"주대각선: \", a4[[0,1,2,3],[0,1,2,3]])\n",
    "print(\"주대각선: \", a4[[0,1,2,3],[3,2,1,0]])\n"
   ]
  }
 ],
 "metadata": {
  "kernelspec": {
   "display_name": "data_analysis",
   "language": "python",
   "name": "python3"
  },
  "language_info": {
   "codemirror_mode": {
    "name": "ipython",
    "version": 3
   },
   "file_extension": ".py",
   "mimetype": "text/x-python",
   "name": "python",
   "nbconvert_exporter": "python",
   "pygments_lexer": "ipython3",
   "version": "3.13.5"
  }
 },
 "nbformat": 4,
 "nbformat_minor": 5
}
