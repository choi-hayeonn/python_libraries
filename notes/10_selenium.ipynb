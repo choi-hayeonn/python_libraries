{
 "cells": [
  {
   "cell_type": "markdown",
   "id": "5fbdc4e6",
   "metadata": {},
   "source": [
    "## 10.🌙 Selenium\n",
    "- 웹 자동화를 위한 라이브러리"
   ]
  },
  {
   "cell_type": "code",
   "execution_count": 3,
   "id": "1bad10d8",
   "metadata": {},
   "outputs": [],
   "source": [
    "from selenium import webdriver\n",
    "from webdriver_manager.chrome import ChromeDriverManager\n",
    "from selenium.webdriver.chrome.service import Service"
   ]
  },
  {
   "cell_type": "code",
   "execution_count": null,
   "id": "500cb82e",
   "metadata": {},
   "outputs": [],
   "source": [
    "import time\n",
    "\n",
    "# Chrome 브라우저 실행\n",
    "driver = webdriver.Chrome(service=Service(ChromeDriverManager().install()))\n",
    "\n",
    "# 원하는 페이지로 이동\n",
    "driver.get(\"https://www.google.com\")\n",
    "time.sleep(3)\n",
    "driver.get(\"https://www.naver.com\")\n",
    "time.sleep(3)\n",
    "\n",
    "# 페이지 이동\n",
    "driver.back()\n",
    "time.sleep(3)\n",
    "driver.forward()\n",
    "time.sleep(3)\n",
    "driver.refresh()\n",
    "time.sleep(1)\n",
    "\n",
    "# 크기 변경\n",
    "driver.set_window_size(1200, 800)\n",
    "time.sleep(2)\n",
    "# 최대화\n",
    "driver.maximize_window()\n",
    "time.sleep(2)\n",
    "# 최소화\n",
    "driver.minimize_window()\n",
    "time.sleep(2)\n",
    "\n",
    "# 창 배치\n",
    "driver.set_window_position(100, 100)\n",
    "\n",
    "\n",
    "# 스크린샷 찍기\n",
    "driver.save_screenshot(\"naver.png\")\n",
    "time.sleep(3)\n",
    "\n",
    "# 현재 열린 모든 브라우저 창 종료 + 세션 해제\n",
    "driver.quit()"
   ]
  },
  {
   "cell_type": "code",
   "execution_count": 16,
   "id": "2a4f34dd",
   "metadata": {},
   "outputs": [
    {
     "name": "stdout",
     "output_type": "stream",
     "text": [
      "제출 결과: <selenium.webdriver.remote.webelement.WebElement (session=\"1cbcad2d5597fb31a8769a757b0c07d7\", element=\"f.B0344DAE0DF6CD16DB6895E743575873.d.7AF93C059607CD1E1370C02E34044097.e.468\")>\n",
      "제출 내용: Received!\n"
     ]
    }
   ],
   "source": [
    "from selenium.webdriver.common.by import By\n",
    "from selenium.webdriver.common.keys import Keys\n",
    "\n",
    "driver = webdriver.Chrome(service=Service(ChromeDriverManager().install()))\n",
    "driver.get(\"https://www.selenium.dev/selenium/web/web-form.html\")\n",
    "\n",
    "# 웹 페이지의 요소 선택과 제어\n",
    "text_input = driver.find_element(By.ID, \"my-text-id\")\n",
    "\n",
    "time.sleep(5)\n",
    "# 요소 제어\n",
    "text_input.send_keys(\"Hello Selenium!!\")\n",
    "time.sleep(3)\n",
    "text_input.clear()\n",
    "time.sleep(3)\n",
    "text_input.send_keys(\"코딩이 재밌니\")\n",
    "time.sleep(3)\n",
    "#text_input.send_keys(Keys.RETURN)       # Enter 역할을 해줌\n",
    "\n",
    "submit_btn = driver.find_element(By.TAG_NAME, \"button\")\n",
    "submit_btn.click()\n",
    "\n",
    "msg = driver.find_element(By.ID, \"message\")\n",
    "print(\"제출 결과:\", msg)\n",
    "print(\"제출 내용:\", msg.text)\n",
    "\n",
    "time.sleep(5)\n",
    "driver.quit()"
   ]
  },
  {
   "cell_type": "code",
   "execution_count": null,
   "id": "de92e28d",
   "metadata": {},
   "outputs": [],
   "source": [
    "# 구글 검색 \n",
    "\n",
    "driver = webdriver.Chrome(service=Service(ChromeDriverManager().install()))\n",
    "driver.get(\"https://www.google.com\")\n",
    "\n",
    "time.sleep(3)\n",
    "search_box = driver.find_element(By.NAME, \"q\")\n",
    "search_box.send_keys(\"Python\", Keys.RETURN)\n",
    "\n",
    "time.sleep(3)\n",
    "\n",
    "driver.quit()\n",
    "\n",
    "\n",
    "# 검색창 입력·빠른 전환·짧은 간격의 요청이 반복되면 “비정상적 트래픽”으로 판단해 차단 됨"
   ]
  }
 ],
 "metadata": {
  "kernelspec": {
   "display_name": "data_analysis",
   "language": "python",
   "name": "python3"
  },
  "language_info": {
   "codemirror_mode": {
    "name": "ipython",
    "version": 3
   },
   "file_extension": ".py",
   "mimetype": "text/x-python",
   "name": "python",
   "nbconvert_exporter": "python",
   "pygments_lexer": "ipython3",
   "version": "3.13.5"
  }
 },
 "nbformat": 4,
 "nbformat_minor": 5
}
