{
 "cells": [
  {
   "cell_type": "markdown",
   "id": "80a9d192",
   "metadata": {},
   "source": [
    "## Numpy(3)"
   ]
  },
  {
   "cell_type": "markdown",
   "id": "e70a15cc",
   "metadata": {},
   "source": [
    "### 3-1. 배열의 형태 변형과 차원 확장/축소"
   ]
  },
  {
   "cell_type": "code",
   "execution_count": 1,
   "id": "31d2a61a",
   "metadata": {},
   "outputs": [],
   "source": [
    "import numpy as np"
   ]
  },
  {
   "cell_type": "code",
   "execution_count": 22,
   "id": "d492c7a6",
   "metadata": {},
   "outputs": [
    {
     "name": "stdout",
     "output_type": "stream",
     "text": [
      "✔ 다차원 배열:\n",
      " [[1 2 3]\n",
      " [4 5 6]]\n",
      "✔ 1차원으로 펼침:\n",
      " [1 2 3 4 5 6]\n",
      "✔ flat 수정:\n",
      " [  1   2 100   4   5   6]\n",
      "✔ 원본도 변경:\n",
      " [[  1   2 100]\n",
      " [  4   5   6]]\n"
     ]
    }
   ],
   "source": [
    "# array.ravel()\n",
    "# 다차원 배열을 1차원 배열로 펼침\n",
    "# 결과를 view로 반환(view를 변경 시 원본도 변경)\n",
    "a = np.array([[1,2,3], [4,5,6]])\n",
    "print(\"✔ 다차원 배열:\\n\", a)\n",
    "flat = a.ravel()\n",
    "print(\"✔ 1차원으로 펼침:\\n\", flat)\n",
    "flat[2] = 100\n",
    "print(\"✔ flat 수정:\\n\",flat)\n",
    "print(\"✔ 원본도 변경:\\n\", a)"
   ]
  },
  {
   "cell_type": "code",
   "execution_count": 19,
   "id": "4fad156b",
   "metadata": {},
   "outputs": [
    {
     "name": "stdout",
     "output_type": "stream",
     "text": [
      "✔ 다차원 배열:\n",
      " [[[1 2]\n",
      "  [4 5]]\n",
      "\n",
      " [[6 7]\n",
      "  [8 9]]]\n",
      "\n",
      "✔ 1차원으로 펼침:\n",
      " [1 2 4 5 6 7 8 9]\n",
      "\n",
      "✔ flat 수정:\n",
      " [1 2 4 5 0 7 8 9]\n",
      "\n",
      "✔ 원본 변경 x:\n",
      " [[[1 2]\n",
      "  [4 5]]\n",
      "\n",
      " [[6 7]\n",
      "  [8 9]]]\n"
     ]
    }
   ],
   "source": [
    "# array.flatten()\n",
    "# 다차원 배열을 1차원 배열로 펼침\n",
    "# 결과를 복사본으로 봔혼(복사본 변경 시 원본은 변경되지 않음)\n",
    "a = np.array([[[1,2], [4,5]],[[6,7], [8,9]]])\n",
    "print(\"✔ 다차원 배열:\\n\", a)\n",
    "print()\n",
    "flat = a.flatten()\n",
    "print(\"✔ 1차원으로 펼침:\\n\", flat)\n",
    "print()\n",
    "flat[4] = 0\n",
    "print(\"✔ flat 수정:\\n\", flat)\n",
    "print()\n",
    "print(\"✔ 원본 변경 x:\\n\", a)"
   ]
  },
  {
   "cell_type": "code",
   "execution_count": null,
   "id": "209c4c09",
   "metadata": {},
   "outputs": [
    {
     "name": "stdout",
     "output_type": "stream",
     "text": [
      "✔ 원본 shape: (2, 3)\n",
      "\n",
      "✔ a0 shape: (1, 2, 3)\n",
      "✔ a0:\n",
      " [[[1 2 3]\n",
      "  [4 5 6]]]\n",
      "\n",
      "✔ a1 shape: (2, 1, 3)\n",
      "✔ a1:\n",
      " [[[1 2 3]]\n",
      "\n",
      " [[4 5 6]]]\n",
      "\n",
      "✔ a2 shape: (2, 3, 1)\n",
      "✔ a2:\n",
      " [[[1]\n",
      "  [2]\n",
      "  [3]]\n",
      "\n",
      " [[4]\n",
      "  [5]\n",
      "  [6]]]\n"
     ]
    }
   ],
   "source": [
    "# np.expand_dims(a, axis)\n",
    "# 지정한 위치에 차원 추가 (차원 확장)\n",
    "# 추가되는 차원은 1\n",
    "a = np.array([[1,2,3], [4,5,6]]) # 2 x 3\n",
    "print(\"✔ 원본 shape:\", a.shape)\n",
    "print()\n",
    "# axis=0\n",
    "a0 = np.expand_dims(a, axis=0)\n",
    "print(\"✔ a0 shape:\", a0.shape)\n",
    "print(\"✔ a0:\\n\",a0)\n",
    "print()\n",
    "# axis=1\n",
    "a1 = np.expand_dims(a, axis=1)\n",
    "print(\"✔ a1 shape:\", a1.shape)\n",
    "print(\"✔ a1:\\n\", a1)\n",
    "print()\n",
    "# axis=2\n",
    "a2 = np.expand_dims(a, axis=2)\n",
    "print(\"✔ a2 shape:\", a2.shape)\n",
    "print(\"✔ a2:\\n\", a2)"
   ]
  },
  {
   "cell_type": "code",
   "execution_count": null,
   "id": "04493f98",
   "metadata": {},
   "outputs": [
    {
     "name": "stdout",
     "output_type": "stream",
     "text": [
      "(2, 1, 3, 1)\n",
      "[[1 2 3]\n",
      " [1 2 3]]\n",
      "(2, 3)\n"
     ]
    }
   ],
   "source": [
    "# np.squeeze(a, axis=None)\n",
    "# 배열에서 크기가 1인 차원을 제거해주는 함수\n",
    "\n",
    "# axis를 지정하지 않는 경우\n",
    "a = np.array([[[[1],[2],[3]]], [[[1],[2],[3]]]])\n",
    "print(a.shape)\n",
    "s = np.squeeze(a)\n",
    "print(s)\n",
    "print(s.shape)"
   ]
  },
  {
   "cell_type": "code",
   "execution_count": 33,
   "id": "30f2bb80",
   "metadata": {},
   "outputs": [
    {
     "name": "stdout",
     "output_type": "stream",
     "text": [
      "✔ 원본 shape: (1, 4, 1, 2)\n",
      "✔ axis = 0 shape: (4, 1, 2)\n",
      "✔ axis = 2 shape: (1, 4, 2)\n"
     ]
    }
   ],
   "source": [
    "# axis를 지정하는 경우\n",
    "a2 = np.zeros((1,4,1,2))\n",
    "print(\"✔ 원본 shape:\",a2.shape)\n",
    "\n",
    "s1 = np.squeeze(a2, axis=0)\n",
    "print(\"✔ axis = 0 shape:\",s1.shape)\n",
    "\n",
    "s2 = np.squeeze(a2, axis=2)\n",
    "print(\"✔ axis = 2 shape:\",s2.shape)\n",
    "\n",
    "# 차원의 크기가 1이 아닌 차원은 제거할 수 x\n",
    "# s3 = np.squeeze(a2, axis=1)"
   ]
  },
  {
   "cell_type": "code",
   "execution_count": null,
   "id": "43e06f1b",
   "metadata": {},
   "outputs": [
    {
     "name": "stdout",
     "output_type": "stream",
     "text": [
      "[1 2 3 4 5 6 7 8]\n",
      "인덱스: [ 0  4  8 10  5 13 15 22]\n",
      "원본의 고유값 인덱스: [0 0 0 0 1 4 1 1 2 2 3 3 4 5 5 6 6 3 2 1 1 4 7]\n",
      "값의 등장 횟수: [4 5 3 3 3 2 2 1]\n"
     ]
    }
   ],
   "source": [
    "# np.unique()\n",
    "# 배열에서 중복된 요소를 제거\n",
    "a = np.array([1,1,1,1,2,5,2,2,3,3,4,4,5,6,6,7,7,4,3,2,2,5,8])\n",
    "u1 = np.unique(a) # 고유값의 오름차순 배열 반환\n",
    "print(u1)\n",
    "\n",
    "u2, idx, inv, cnt = np.unique(a, return_index=True, return_inverse=True, return_counts=True)\n",
    "print(\"인덱스:\", idx)   # 고유값이 원본에서 처음 나타나는 인덱스\n",
    "print(\"원본의 고유값 인덱스:\", inv)\n",
    "print(\"값의 등장 횟수:\", cnt)\n"
   ]
  },
  {
   "cell_type": "code",
   "execution_count": 71,
   "id": "2f403569",
   "metadata": {},
   "outputs": [
    {
     "name": "stdout",
     "output_type": "stream",
     "text": [
      "✔문제1\n",
      " -r: [10 20 30 40 50 60]\n",
      " -f: [10 20 30 40 50 60]\n",
      " -r 수정 후: [999  20  30  40  50  60]\n",
      " -f 수정 후: [10 20 30 40 50 60]\n",
      "✔문제2: (1, 3, 2)\n",
      "✔문제3: (28, 28)\n",
      "✔문제4\n",
      " 1): [3 1 2 2 1 2 3 1 2 2 1 4]\n",
      " 2): [[1 2 3 4]]\n",
      "✔문제5: [1 2 3]\n",
      "✔문제6\n",
      " -1차원 배열:\n",
      " [0 1 2 3 1 2 3 4 2 3 4 5 3 4 5 6 4 5 6 7 5 6 7 8]\n",
      " -고유값 추출:\n",
      " [0 1 2 3 4 5 6 7 8]\n",
      " -shape(고유값 개수, 1)인 2차원 배열로 변환:\n",
      " [[0]\n",
      " [1]\n",
      " [2]\n",
      " [3]\n",
      " [4]\n",
      " [5]\n",
      " [6]\n",
      " [7]\n",
      " [8]]\n"
     ]
    }
   ],
   "source": [
    "# 실습. 배열 형태 변형, 차원 확장·축소\n",
    "# 1. 아래의 배열을 사용해서\n",
    "#   1) ravel과 flatten을 각각 사용해 1차원 배열로 변환하고,\n",
    "#   2) arr의 첫 번째 원소(arr[0,0])를 999로 바꾼 뒤 ravel 결과와 flatten 결과에 어떤 변화가 있는지 확인하세요.\n",
    "arr = np.array([[10, 20], [30, 40], [50, 60]])\n",
    "r = arr.ravel()\n",
    "f = arr.flatten()\n",
    "print(\"✔문제1\\n -r:\", r)\n",
    "print(\" -f:\",f)\n",
    "arr[0,0]=999\n",
    "print(\" -r 수정 후:\",r)\n",
    "print(\" -f 수정 후:\",f)\n",
    "# 2. 크기가 32x32인 이미지 데이터를 가정하고, 이 배열에 대해 expand_dims를 사용하여 shape (1, 32, 32)로 바꾸는 코드를 작성하세요.\n",
    "img = np.random.rand(32, 32)\n",
    "print(\"✔문제2:\", np.expand_dims(arr, axis=0).shape)\n",
    "# 3. 아래 배열에서 불필요한 1차원을 모두 제거하여 shape이 (28, 28)이 되도록 만드세요.\n",
    "img = np.random.randint(0, 255, (1, 28, 28, 1))\n",
    "print(\"✔문제3:\",np.squeeze(img).shape)\n",
    "# 4. 아래 2차원 배열을 1) 1차원 배열로 만든 후 2) 중복값을 제거한 뒤 shape (1, n)으로 재구성하세요\n",
    "arr = np.array([[3, 1, 2, 2],\n",
    "[1, 2, 3, 1],\n",
    "[2, 2, 1, 4]])\n",
    "f = arr.flatten()\n",
    "print(\"✔문제4\\n 1):\",f)\n",
    "print(\" 2):\",(np.unique(f)).reshape(1,-1))  # 값이 불확실한 것에 -1을 써주면 이전 과정에서 자동으로 계산해줌\n",
    "# 5. 다음 배열을 shape (10,)로 만든 뒤 고유값 배열을 구하세요.\n",
    "arr = np.array([[[1], [3], [2], [1], [3], [2], [3], [1], [2], [3]]])\n",
    "print(\"✔문제5:\", np.unique(np.squeeze(arr)))\n",
    "# 6. 다음 배열을 1차원 배열로 만든 후 고유값만 추출해서 shape (고유값 개수, 1)인 2차원 배열로 변환하세요.\n",
    "arr = np.array([ [[0, 1, 2, 3], [1, 2, 3, 4], [2, 3, 4, 5]],\n",
    "[[3, 4, 5, 6], [4, 5, 6, 7], [5, 6, 7, 8]] ]) # shape (2, 3, 4)\n",
    "f = arr.flatten()\n",
    "print(\"✔문제6\\n -1차원 배열:\\n\",f)\n",
    "u = np.unique(f)\n",
    "print(\" -고유값 추출:\\n\",u)\n",
    "re = np.expand_dims(u, axis = 1)\n",
    "print(\" -shape(고유값 개수, 1)인 2차원 배열로 변환:\\n\",re)"
   ]
  },
  {
   "cell_type": "code",
   "execution_count": null,
   "id": "4d26d0c0",
   "metadata": {},
   "outputs": [
    {
     "name": "stdout",
     "output_type": "stream",
     "text": [
      "[[1 2]\n",
      " [3 4]\n",
      " [5 6]]\n",
      "(3, 2)\n",
      "\n",
      "[[1 2 7]\n",
      " [3 4 8]\n",
      " [5 6 9]]\n",
      "(3, 3)\n"
     ]
    }
   ],
   "source": [
    "# np.concatenate()\n",
    "# 배열 시퀀스를 결합\n",
    "# 기존 구조 안에서 결합\n",
    "a = np.array([[1,2], [3,4]])    # (2,2)\n",
    "b = np.array([[5,6]])\n",
    "\n",
    "result1 = np.concatenate((a,b), axis = 0)\n",
    "print(result1)\n",
    "print(result1.shape)\n",
    "print()\n",
    "\n",
    "# 결합이 불가 → 결합하는 axis를 제외한 나머지 차원이 같아야 함\n",
    "# result2 = np.concatenate((a,b), axis = 1)\n",
    "\n",
    "c = np.array([[7], [8], [9]])\n",
    "result3 = np.concatenate((result1, c), axis = 1)\n",
    "print(result3)\n",
    "print(result3.shape)\n"
   ]
  },
  {
   "cell_type": "code",
   "execution_count": null,
   "id": "7e263282",
   "metadata": {},
   "outputs": [
    {
     "name": "stdout",
     "output_type": "stream",
     "text": [
      "[[1 2 3]\n",
      " [4 5 6]]\n",
      "(2, 3)\n",
      "\n",
      "[[1 4]\n",
      " [2 5]\n",
      " [3 6]]\n",
      "(3, 2)\n"
     ]
    }
   ],
   "source": [
    "# np.stack()\n",
    "# 새로운 차원을 추가하면서 결합\n",
    "# 형태가 똑같아야 함.\n",
    "a = np.array([1,2,3])   # (3,)\n",
    "b = np.array([4,5,6])\n",
    "\n",
    "# axis = 0\n",
    "s1 = np.stack((a,b), axis=0)\n",
    "print(s1)\n",
    "print(s1.shape)\n",
    "print()\n",
    "\n",
    "# axis = 1\n",
    "s2 = np.stack((a,b), axis=1)\n",
    "print(s2)\n",
    "print(s2.shape)\n"
   ]
  },
  {
   "cell_type": "code",
   "execution_count": 82,
   "id": "ade15ecd",
   "metadata": {},
   "outputs": [
    {
     "name": "stdout",
     "output_type": "stream",
     "text": [
      "[0 1 2 3 4 5 6 7 8]\n",
      "[array([0, 1, 2]), array([3, 4, 5]), array([6, 7, 8])]\n",
      "[0 1 2]\n",
      "[3 4 5]\n",
      "[6 7 8]\n"
     ]
    }
   ],
   "source": [
    "# np.split()\n",
    "# 배열을 여러개의 하위배열로 분할\n",
    "a = np.arange(9)\n",
    "s = np.split(a, 3)\n",
    "print(a)\n",
    "print(s)\n",
    "print(s[0])\n",
    "print(s[1])\n",
    "print(s[2])"
   ]
  },
  {
   "cell_type": "code",
   "execution_count": null,
   "id": "7e3ef7d6",
   "metadata": {},
   "outputs": [],
   "source": [
    "# 배열을 같은 크기로만 나눌 수 있음\n",
    "a = np.arange(9)\n",
    "s = np.split(a, 4)"
   ]
  },
  {
   "cell_type": "code",
   "execution_count": 91,
   "id": "f9c60203",
   "metadata": {},
   "outputs": [
    {
     "name": "stdout",
     "output_type": "stream",
     "text": [
      "[[ 0  1  2  3]\n",
      " [ 4  5  6  7]\n",
      " [ 8  9 10 11]\n",
      " [12 13 14 15]]\n",
      "\n",
      "[[0 1 2 3]]\n",
      "[[ 4  5  6  7]\n",
      " [ 8  9 10 11]]\n",
      "[[12 13 14 15]]\n",
      "\n",
      "[[ 0  1]\n",
      " [ 4  5]\n",
      " [ 8  9]\n",
      " [12 13]]\n",
      "[[ 2  3]\n",
      " [ 6  7]\n",
      " [10 11]\n",
      " [14 15]]\n"
     ]
    }
   ],
   "source": [
    "# 인덱스를 활용하여 쪼개면 균등한 크기가 아니라도 동일하게 split 기능을 적용할 수 있음.\n",
    "\n",
    "print(a)\n",
    "print()\n",
    "s1 = np.split(a, [1,3])  # 분할 기준점이 인덱스 1과 3\n",
    "for part in s1:\n",
    "    print(part)\n",
    "print()\n",
    "\n",
    "s2 = np.split(a, 2, axis = 1)\n",
    "for part in s2:\n",
    "    print(part)\n"
   ]
  },
  {
   "cell_type": "code",
   "execution_count": 137,
   "id": "daa2e885",
   "metadata": {},
   "outputs": [
    {
     "name": "stdout",
     "output_type": "stream",
     "text": [
      "문제1:\n",
      " [[1 2]\n",
      " [3 4]\n",
      " [5 6]]\n",
      "(3, 2)\n",
      "\n",
      "문제2:\n",
      "[0 1 2 3]\n",
      "[4 5 6 7]\n",
      "[ 8  9 10 11]\n",
      "\n",
      "문제3:\n",
      " [[1 2]\n",
      " [3 4]\n",
      " [5 6]]\n",
      "(3, 2)\n",
      "\n",
      "문제4:\n",
      " [[[ 1  2  3]\n",
      "  [ 4  5  6]]\n",
      "\n",
      " [[ 7  8  9]\n",
      "  [10 11 12]]]\n",
      "(2, 2, 3)\n",
      "\n",
      "문제5:\n",
      "[0 1]\n",
      "[2 3 4]\n",
      "[5 6 7]\n",
      "\n",
      "문제6:\n",
      " [[[1. 1. 1.]\n",
      "  [1. 1. 1.]]\n",
      "\n",
      " [[0. 0. 0.]\n",
      "  [0. 0. 0.]]]\n",
      "[[[1. 1. 1.]\n",
      "  [0. 0. 0.]]\n",
      "\n",
      " [[1. 1. 1.]\n",
      "  [0. 0. 0.]]]\n"
     ]
    }
   ],
   "source": [
    "# 실습. 배열의 결합과 분리\n",
    "# 1. 다음 두 배열을 행 방향으로 이어붙이세요.\n",
    "a = np.array([[1, 2], [3, 4]])\n",
    "b = np.array([[5, 6]])\n",
    "result = np.concatenate((a,b), axis = 0)\n",
    "print(\"문제1:\\n\", result)\n",
    "print(result.shape)\n",
    "print()\n",
    "# 2. 아래 배열을 3개로 같은 크기로 분할하세요.\n",
    "a = np.arange(12)\n",
    "s = np.split(a, 3)\n",
    "print(\"문제2:\")\n",
    "for part in s:\n",
    "    print(part)\n",
    "print()\n",
    "# 3. 다음 배열들을 새로운 축에 쌓아 shape이 (3, 2)인 배열을 만드세요.\n",
    "a = np.array([1, 2])\n",
    "b = np.array([3, 4])\n",
    "c = np.array([5, 6])\n",
    "s1 = np.stack((a,b,c), axis=0)\n",
    "print(\"문제3:\\n\", s1)\n",
    "print(s1.shape)\n",
    "print()\n",
    "# 4.  shape가 (2, 3)인 아래 두 배열을 shape (2, 2, 3)인 3차원 배열을 만드세요.\n",
    "a = np.array([[1, 2, 3], [4, 5, 6]])\n",
    "b = np.array([[7, 8, 9], [10, 11, 12]])\n",
    "s1 = np.stack((a,b), axis=0)\n",
    "print(\"문제4:\\n\", s1)\n",
    "print(s1.shape)\n",
    "print()\n",
    "# 5. 아래의 1차원 배열을 2:3:3 비율(총 3개)로 분할하세요.\n",
    "arr = np.arange(8)\n",
    "arr5 = np.split(arr, [2,5])\n",
    "print(\"문제5:\")\n",
    "for i, a5 in enumerate(arr5):\n",
    "    print(a5)\n",
    "print()\n",
    "# 6. 아래 두 배열을 axis=0, axis=1로 각각 stack하여 두 경우의 결과 shape을 모두 구하세요\n",
    "a = np.ones((2, 3))\n",
    "b = np.zeros((2, 3))\n",
    "a6 = np.stack([a, b], axis=0)\n",
    "print(\"문제6:\\n\", a6)\n",
    "b6 = np.stack([a, b], axis=1)\n",
    "print(b6)"
   ]
  },
  {
   "cell_type": "markdown",
   "id": "4c6e5b11",
   "metadata": {},
   "source": [
    "### 3-3. 배열의 정렬"
   ]
  },
  {
   "cell_type": "code",
   "execution_count": 113,
   "id": "a65c6b4b",
   "metadata": {},
   "outputs": [
    {
     "name": "stdout",
     "output_type": "stream",
     "text": [
      "[1 2 3 4]\n",
      "[3 1 4 2]\n",
      "\n",
      "[1 2 3 4]\n",
      "[4 3 2 1]\n"
     ]
    }
   ],
   "source": [
    "# np.sort(array)\n",
    "# 정렬된 복사본 반환\n",
    "# array.sort()\n",
    "# 원본 배열을 정렬\n",
    "\n",
    "# 1차원 배열\n",
    "a = np.array([3,1,4,2])\n",
    "\n",
    "# 정렬한 배열을 반환\n",
    "s = np.sort(a)\n",
    "print(s)\n",
    "print(a)\n",
    "print()\n",
    "\n",
    "# 원본을 정렬\n",
    "a.sort()\n",
    "print(a)\n",
    "\n",
    "# 내림차순 : sort 한 후 배열을 뒤집어야 함.\n",
    "print(a[::-1])"
   ]
  },
  {
   "cell_type": "code",
   "execution_count": 112,
   "id": "35140e67",
   "metadata": {},
   "outputs": [
    {
     "name": "stdout",
     "output_type": "stream",
     "text": [
      "[[3 1 2]\n",
      " [6 5 4]]\n",
      "[[4 5 6]\n",
      " [1 2 3]]\n",
      "[[6, 5, 4], [3, 1, 2]]\n",
      "\n"
     ]
    }
   ],
   "source": [
    "# 2차원 배열 정렬\n",
    "a = [[6,5,4],[3,1,2]]\n",
    "s1 = np.sort(a, axis=0)\n",
    "print(s1)\n",
    "s2 = np.sort(a, axis=1)\n",
    "print(s2)\n",
    "print(a)\n",
    "print()"
   ]
  },
  {
   "cell_type": "code",
   "execution_count": 115,
   "id": "c705db9c",
   "metadata": {},
   "outputs": [
    {
     "name": "stdout",
     "output_type": "stream",
     "text": [
      "[1 3 0 2]\n",
      "[1 2 3 4]\n"
     ]
    }
   ],
   "source": [
    "# np.argsort()\n",
    "# 정렬 인덱스를 반환\n",
    "a = np.array([3,1,4,2])\n",
    "idx = np.argsort(a)\n",
    "print(idx)\n",
    "print(a[idx])\n"
   ]
  },
  {
   "cell_type": "code",
   "execution_count": null,
   "id": "b01a94de",
   "metadata": {},
   "outputs": [
    {
     "name": "stdout",
     "output_type": "stream",
     "text": [
      "[2 4 5 7 9]\n",
      "[9 7 5 4 2]\n",
      "\n",
      "[[2 5 9]\n",
      " [1 3 8]]\n",
      "\n",
      "[3 1 2 4 0]\n",
      "[ 1  3  7  9 10]\n",
      "\n",
      "[[4 1 2]\n",
      " [6 7 3]\n",
      " [9 8 5]]\n"
     ]
    }
   ],
   "source": [
    "# 실습. 배열의 정렬\n",
    "# 1. 아래의 1차원 배열을 오름차순과 내림차순으로 각각 정렬하는 코드를 작성하세요.\n",
    "arr = np.array([7, 2, 9, 4, 5])\n",
    "arr.sort()\n",
    "print(arr)\n",
    "print(arr[::-1])\n",
    "print()\n",
    "# 2. 아래의 2차원 배열에서 각 행(row) 별로 오름차순 정렬된 배열을 구하세요.\n",
    "arr = np.array([[9, 2, 5],\n",
    "[3, 8, 1]])\n",
    "s = np.sort(arr, axis = 1)\n",
    "print(s)\n",
    "print()\n",
    "# 3. 아래의 1차원 배열에서 정렬 결과(오름차순)가 되는 인덱스 배열을 구하고, 그 인덱스를 이용해 원본 배열을 직접 재정렬하는 코드를 작성하세요.\n",
    "arr = np.array([10, 3, 7, 1, 9])\n",
    "idx = np.argsort(arr)\n",
    "print(idx)\n",
    "print(arr[idx])\n",
    "print()\n",
    "# 4. 아래 2차원 배열을 열(column) 기준(axis=0)으로 오름차순 정렬된 배열을 구하세요.\n",
    "arr = np.array([[4, 7, 2],\n",
    "                [9, 1, 5],\n",
    "                [6, 8, 3]])\n",
    "s = np.sort(arr, axis=0)\n",
    "print(s)"
   ]
  }
 ],
 "metadata": {
  "kernelspec": {
   "display_name": "data_analysis",
   "language": "python",
   "name": "python3"
  },
  "language_info": {
   "codemirror_mode": {
    "name": "ipython",
    "version": 3
   },
   "file_extension": ".py",
   "mimetype": "text/x-python",
   "name": "python",
   "nbconvert_exporter": "python",
   "pygments_lexer": "ipython3",
   "version": "3.13.5"
  }
 },
 "nbformat": 4,
 "nbformat_minor": 5
}
